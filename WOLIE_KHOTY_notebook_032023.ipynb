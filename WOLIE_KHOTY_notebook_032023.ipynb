{
 "cells": [
  {
   "cell_type": "markdown",
   "id": "cd756d0e",
   "metadata": {},
   "source": [
    "# PROJET 6 : Analysez les ventes d'une librairie avec R ou Python"
   ]
  },
  {
   "cell_type": "markdown",
   "id": "841638c7",
   "metadata": {},
   "source": [
    "## I- IMPORTATION DES LIBRAIRIES ET DES DONNEES "
   ]
  },
  {
   "cell_type": "code",
   "execution_count": 127,
   "id": "b4241aec",
   "metadata": {},
   "outputs": [],
   "source": [
    "import pandas as pd\n",
    "import numpy as np\n",
    "import matplotlib.pyplot as plt\n",
    "import seaborn as sns\n",
    "import datetime as dt\n",
    "from scipy import stats"
   ]
  },
  {
   "cell_type": "code",
   "execution_count": 128,
   "id": "2fe49f8f",
   "metadata": {},
   "outputs": [],
   "source": [
    "from warnings import filterwarnings\n",
    "filterwarnings('ignore')  # code optionnel"
   ]
  },
  {
   "cell_type": "markdown",
   "id": "977b1f90",
   "metadata": {},
   "source": [
    "## 1- Importation de la DataFrame customers"
   ]
  },
  {
   "cell_type": "markdown",
   "id": "f2677527",
   "metadata": {},
   "source": [
    "### 1-a Utilisation de methodes, .info(), .shape, .rename() pour observer la dataframe"
   ]
  },
  {
   "cell_type": "code",
   "execution_count": 129,
   "id": "8c46c560",
   "metadata": {},
   "outputs": [],
   "source": [
    "customers = pd.read_csv('customers.csv')\n",
    "\n",
    "# customers = Clients"
   ]
  },
  {
   "cell_type": "code",
   "execution_count": 130,
   "id": "bab83ba6",
   "metadata": {},
   "outputs": [
    {
     "data": {
      "text/html": [
       "<div>\n",
       "<style scoped>\n",
       "    .dataframe tbody tr th:only-of-type {\n",
       "        vertical-align: middle;\n",
       "    }\n",
       "\n",
       "    .dataframe tbody tr th {\n",
       "        vertical-align: top;\n",
       "    }\n",
       "\n",
       "    .dataframe thead th {\n",
       "        text-align: right;\n",
       "    }\n",
       "</style>\n",
       "<table border=\"1\" class=\"dataframe\">\n",
       "  <thead>\n",
       "    <tr style=\"text-align: right;\">\n",
       "      <th></th>\n",
       "      <th>client_id</th>\n",
       "      <th>sex</th>\n",
       "      <th>birth</th>\n",
       "    </tr>\n",
       "  </thead>\n",
       "  <tbody>\n",
       "    <tr>\n",
       "      <th>0</th>\n",
       "      <td>c_4410</td>\n",
       "      <td>f</td>\n",
       "      <td>1967</td>\n",
       "    </tr>\n",
       "    <tr>\n",
       "      <th>1</th>\n",
       "      <td>c_7839</td>\n",
       "      <td>f</td>\n",
       "      <td>1975</td>\n",
       "    </tr>\n",
       "    <tr>\n",
       "      <th>2</th>\n",
       "      <td>c_1699</td>\n",
       "      <td>f</td>\n",
       "      <td>1984</td>\n",
       "    </tr>\n",
       "    <tr>\n",
       "      <th>3</th>\n",
       "      <td>c_5961</td>\n",
       "      <td>f</td>\n",
       "      <td>1962</td>\n",
       "    </tr>\n",
       "    <tr>\n",
       "      <th>4</th>\n",
       "      <td>c_5320</td>\n",
       "      <td>m</td>\n",
       "      <td>1943</td>\n",
       "    </tr>\n",
       "    <tr>\n",
       "      <th>...</th>\n",
       "      <td>...</td>\n",
       "      <td>...</td>\n",
       "      <td>...</td>\n",
       "    </tr>\n",
       "    <tr>\n",
       "      <th>8618</th>\n",
       "      <td>c_7920</td>\n",
       "      <td>m</td>\n",
       "      <td>1956</td>\n",
       "    </tr>\n",
       "    <tr>\n",
       "      <th>8619</th>\n",
       "      <td>c_7403</td>\n",
       "      <td>f</td>\n",
       "      <td>1970</td>\n",
       "    </tr>\n",
       "    <tr>\n",
       "      <th>8620</th>\n",
       "      <td>c_5119</td>\n",
       "      <td>m</td>\n",
       "      <td>1974</td>\n",
       "    </tr>\n",
       "    <tr>\n",
       "      <th>8621</th>\n",
       "      <td>c_5643</td>\n",
       "      <td>f</td>\n",
       "      <td>1968</td>\n",
       "    </tr>\n",
       "    <tr>\n",
       "      <th>8622</th>\n",
       "      <td>c_84</td>\n",
       "      <td>f</td>\n",
       "      <td>1982</td>\n",
       "    </tr>\n",
       "  </tbody>\n",
       "</table>\n",
       "<p>8623 rows × 3 columns</p>\n",
       "</div>"
      ],
      "text/plain": [
       "     client_id sex  birth\n",
       "0       c_4410   f   1967\n",
       "1       c_7839   f   1975\n",
       "2       c_1699   f   1984\n",
       "3       c_5961   f   1962\n",
       "4       c_5320   m   1943\n",
       "...        ...  ..    ...\n",
       "8618    c_7920   m   1956\n",
       "8619    c_7403   f   1970\n",
       "8620    c_5119   m   1974\n",
       "8621    c_5643   f   1968\n",
       "8622      c_84   f   1982\n",
       "\n",
       "[8623 rows x 3 columns]"
      ]
     },
     "execution_count": 130,
     "metadata": {},
     "output_type": "execute_result"
    }
   ],
   "source": [
    "customers"
   ]
  },
  {
   "cell_type": "code",
   "execution_count": 131,
   "id": "127b1a0a",
   "metadata": {},
   "outputs": [
    {
     "data": {
      "text/plain": [
       "(8623, 3)"
      ]
     },
     "execution_count": 131,
     "metadata": {},
     "output_type": "execute_result"
    }
   ],
   "source": [
    "customers.shape"
   ]
  },
  {
   "cell_type": "code",
   "execution_count": 132,
   "id": "af857eed",
   "metadata": {},
   "outputs": [
    {
     "name": "stdout",
     "output_type": "stream",
     "text": [
      "<class 'pandas.core.frame.DataFrame'>\n",
      "RangeIndex: 8623 entries, 0 to 8622\n",
      "Data columns (total 3 columns):\n",
      " #   Column     Non-Null Count  Dtype \n",
      "---  ------     --------------  ----- \n",
      " 0   client_id  8623 non-null   object\n",
      " 1   sex        8623 non-null   object\n",
      " 2   birth      8623 non-null   int64 \n",
      "dtypes: int64(1), object(2)\n",
      "memory usage: 202.2+ KB\n"
     ]
    }
   ],
   "source": [
    "customers.info()"
   ]
  },
  {
   "cell_type": "code",
   "execution_count": 133,
   "id": "fd426f38",
   "metadata": {},
   "outputs": [],
   "source": [
    "customers = customers.rename(columns={'birth':'birthday'})"
   ]
  },
  {
   "cell_type": "markdown",
   "id": "fe4270a6",
   "metadata": {},
   "source": [
    "### 1-b Utilisation de methodes .loc[] , .duplicated() , .drop_duplicates() pour observer l'unicité de clé primaire"
   ]
  },
  {
   "cell_type": "code",
   "execution_count": 134,
   "id": "d66a4e0e",
   "metadata": {},
   "outputs": [
    {
     "data": {
      "text/html": [
       "<div>\n",
       "<style scoped>\n",
       "    .dataframe tbody tr th:only-of-type {\n",
       "        vertical-align: middle;\n",
       "    }\n",
       "\n",
       "    .dataframe tbody tr th {\n",
       "        vertical-align: top;\n",
       "    }\n",
       "\n",
       "    .dataframe thead th {\n",
       "        text-align: right;\n",
       "    }\n",
       "</style>\n",
       "<table border=\"1\" class=\"dataframe\">\n",
       "  <thead>\n",
       "    <tr style=\"text-align: right;\">\n",
       "      <th></th>\n",
       "      <th>client_id</th>\n",
       "      <th>sex</th>\n",
       "      <th>birthday</th>\n",
       "    </tr>\n",
       "  </thead>\n",
       "  <tbody>\n",
       "  </tbody>\n",
       "</table>\n",
       "</div>"
      ],
      "text/plain": [
       "Empty DataFrame\n",
       "Columns: [client_id, sex, birthday]\n",
       "Index: []"
      ]
     },
     "execution_count": 134,
     "metadata": {},
     "output_type": "execute_result"
    }
   ],
   "source": [
    "customers.loc[customers[['client_id']].duplicated(keep=False)]\n",
    "\n",
    "# Unicité de clé primaire"
   ]
  },
  {
   "cell_type": "code",
   "execution_count": 135,
   "id": "07b00036",
   "metadata": {},
   "outputs": [
    {
     "data": {
      "text/html": [
       "<div>\n",
       "<style scoped>\n",
       "    .dataframe tbody tr th:only-of-type {\n",
       "        vertical-align: middle;\n",
       "    }\n",
       "\n",
       "    .dataframe tbody tr th {\n",
       "        vertical-align: top;\n",
       "    }\n",
       "\n",
       "    .dataframe thead th {\n",
       "        text-align: right;\n",
       "    }\n",
       "</style>\n",
       "<table border=\"1\" class=\"dataframe\">\n",
       "  <thead>\n",
       "    <tr style=\"text-align: right;\">\n",
       "      <th></th>\n",
       "      <th>client_id</th>\n",
       "      <th>sex</th>\n",
       "      <th>birthday</th>\n",
       "    </tr>\n",
       "  </thead>\n",
       "  <tbody>\n",
       "  </tbody>\n",
       "</table>\n",
       "</div>"
      ],
      "text/plain": [
       "Empty DataFrame\n",
       "Columns: [client_id, sex, birthday]\n",
       "Index: []"
      ]
     },
     "execution_count": 135,
     "metadata": {},
     "output_type": "execute_result"
    }
   ],
   "source": [
    "customers.loc[customers[['client_id','sex','birthday']].duplicated(keep=False)]"
   ]
  },
  {
   "cell_type": "code",
   "execution_count": 136,
   "id": "1413cce6",
   "metadata": {},
   "outputs": [],
   "source": [
    "customers.drop_duplicates(subset=['client_id','sex','birthday'], inplace=True, ignore_index=True)"
   ]
  },
  {
   "cell_type": "code",
   "execution_count": 137,
   "id": "2b587cf1",
   "metadata": {},
   "outputs": [
    {
     "data": {
      "text/html": [
       "<div>\n",
       "<style scoped>\n",
       "    .dataframe tbody tr th:only-of-type {\n",
       "        vertical-align: middle;\n",
       "    }\n",
       "\n",
       "    .dataframe tbody tr th {\n",
       "        vertical-align: top;\n",
       "    }\n",
       "\n",
       "    .dataframe thead th {\n",
       "        text-align: right;\n",
       "    }\n",
       "</style>\n",
       "<table border=\"1\" class=\"dataframe\">\n",
       "  <thead>\n",
       "    <tr style=\"text-align: right;\">\n",
       "      <th></th>\n",
       "      <th>client_id</th>\n",
       "      <th>sex</th>\n",
       "      <th>birthday</th>\n",
       "    </tr>\n",
       "  </thead>\n",
       "  <tbody>\n",
       "    <tr>\n",
       "      <th>0</th>\n",
       "      <td>c_4410</td>\n",
       "      <td>f</td>\n",
       "      <td>1967</td>\n",
       "    </tr>\n",
       "    <tr>\n",
       "      <th>1</th>\n",
       "      <td>c_7839</td>\n",
       "      <td>f</td>\n",
       "      <td>1975</td>\n",
       "    </tr>\n",
       "    <tr>\n",
       "      <th>2</th>\n",
       "      <td>c_1699</td>\n",
       "      <td>f</td>\n",
       "      <td>1984</td>\n",
       "    </tr>\n",
       "    <tr>\n",
       "      <th>3</th>\n",
       "      <td>c_5961</td>\n",
       "      <td>f</td>\n",
       "      <td>1962</td>\n",
       "    </tr>\n",
       "    <tr>\n",
       "      <th>4</th>\n",
       "      <td>c_5320</td>\n",
       "      <td>m</td>\n",
       "      <td>1943</td>\n",
       "    </tr>\n",
       "    <tr>\n",
       "      <th>...</th>\n",
       "      <td>...</td>\n",
       "      <td>...</td>\n",
       "      <td>...</td>\n",
       "    </tr>\n",
       "    <tr>\n",
       "      <th>8618</th>\n",
       "      <td>c_7920</td>\n",
       "      <td>m</td>\n",
       "      <td>1956</td>\n",
       "    </tr>\n",
       "    <tr>\n",
       "      <th>8619</th>\n",
       "      <td>c_7403</td>\n",
       "      <td>f</td>\n",
       "      <td>1970</td>\n",
       "    </tr>\n",
       "    <tr>\n",
       "      <th>8620</th>\n",
       "      <td>c_5119</td>\n",
       "      <td>m</td>\n",
       "      <td>1974</td>\n",
       "    </tr>\n",
       "    <tr>\n",
       "      <th>8621</th>\n",
       "      <td>c_5643</td>\n",
       "      <td>f</td>\n",
       "      <td>1968</td>\n",
       "    </tr>\n",
       "    <tr>\n",
       "      <th>8622</th>\n",
       "      <td>c_84</td>\n",
       "      <td>f</td>\n",
       "      <td>1982</td>\n",
       "    </tr>\n",
       "  </tbody>\n",
       "</table>\n",
       "<p>8623 rows × 3 columns</p>\n",
       "</div>"
      ],
      "text/plain": [
       "     client_id sex  birthday\n",
       "0       c_4410   f      1967\n",
       "1       c_7839   f      1975\n",
       "2       c_1699   f      1984\n",
       "3       c_5961   f      1962\n",
       "4       c_5320   m      1943\n",
       "...        ...  ..       ...\n",
       "8618    c_7920   m      1956\n",
       "8619    c_7403   f      1970\n",
       "8620    c_5119   m      1974\n",
       "8621    c_5643   f      1968\n",
       "8622      c_84   f      1982\n",
       "\n",
       "[8623 rows x 3 columns]"
      ]
     },
     "execution_count": 137,
     "metadata": {},
     "output_type": "execute_result"
    }
   ],
   "source": [
    "customers"
   ]
  },
  {
   "cell_type": "markdown",
   "id": "9018f54e",
   "metadata": {},
   "source": [
    "## 2- Importation de la DataFrame products"
   ]
  },
  {
   "cell_type": "markdown",
   "id": "b19cf85d",
   "metadata": {},
   "source": [
    "### 2-a Utilisation de methodes, .info(), .shape, .rename() pour observer la dataframe"
   ]
  },
  {
   "cell_type": "code",
   "execution_count": 138,
   "id": "5eb4b451",
   "metadata": {},
   "outputs": [],
   "source": [
    "products = pd.read_csv('products.csv')"
   ]
  },
  {
   "cell_type": "code",
   "execution_count": 139,
   "id": "b9cefc16",
   "metadata": {},
   "outputs": [
    {
     "data": {
      "text/html": [
       "<div>\n",
       "<style scoped>\n",
       "    .dataframe tbody tr th:only-of-type {\n",
       "        vertical-align: middle;\n",
       "    }\n",
       "\n",
       "    .dataframe tbody tr th {\n",
       "        vertical-align: top;\n",
       "    }\n",
       "\n",
       "    .dataframe thead th {\n",
       "        text-align: right;\n",
       "    }\n",
       "</style>\n",
       "<table border=\"1\" class=\"dataframe\">\n",
       "  <thead>\n",
       "    <tr style=\"text-align: right;\">\n",
       "      <th></th>\n",
       "      <th>id_prod</th>\n",
       "      <th>price</th>\n",
       "      <th>categ</th>\n",
       "    </tr>\n",
       "  </thead>\n",
       "  <tbody>\n",
       "    <tr>\n",
       "      <th>0</th>\n",
       "      <td>0_1421</td>\n",
       "      <td>19.99</td>\n",
       "      <td>0</td>\n",
       "    </tr>\n",
       "    <tr>\n",
       "      <th>1</th>\n",
       "      <td>0_1368</td>\n",
       "      <td>5.13</td>\n",
       "      <td>0</td>\n",
       "    </tr>\n",
       "    <tr>\n",
       "      <th>2</th>\n",
       "      <td>0_731</td>\n",
       "      <td>17.99</td>\n",
       "      <td>0</td>\n",
       "    </tr>\n",
       "    <tr>\n",
       "      <th>3</th>\n",
       "      <td>1_587</td>\n",
       "      <td>4.99</td>\n",
       "      <td>1</td>\n",
       "    </tr>\n",
       "    <tr>\n",
       "      <th>4</th>\n",
       "      <td>0_1507</td>\n",
       "      <td>3.99</td>\n",
       "      <td>0</td>\n",
       "    </tr>\n",
       "    <tr>\n",
       "      <th>...</th>\n",
       "      <td>...</td>\n",
       "      <td>...</td>\n",
       "      <td>...</td>\n",
       "    </tr>\n",
       "    <tr>\n",
       "      <th>3282</th>\n",
       "      <td>2_23</td>\n",
       "      <td>115.99</td>\n",
       "      <td>2</td>\n",
       "    </tr>\n",
       "    <tr>\n",
       "      <th>3283</th>\n",
       "      <td>0_146</td>\n",
       "      <td>17.14</td>\n",
       "      <td>0</td>\n",
       "    </tr>\n",
       "    <tr>\n",
       "      <th>3284</th>\n",
       "      <td>0_802</td>\n",
       "      <td>11.22</td>\n",
       "      <td>0</td>\n",
       "    </tr>\n",
       "    <tr>\n",
       "      <th>3285</th>\n",
       "      <td>1_140</td>\n",
       "      <td>38.56</td>\n",
       "      <td>1</td>\n",
       "    </tr>\n",
       "    <tr>\n",
       "      <th>3286</th>\n",
       "      <td>0_1920</td>\n",
       "      <td>25.16</td>\n",
       "      <td>0</td>\n",
       "    </tr>\n",
       "  </tbody>\n",
       "</table>\n",
       "<p>3287 rows × 3 columns</p>\n",
       "</div>"
      ],
      "text/plain": [
       "     id_prod   price  categ\n",
       "0     0_1421   19.99      0\n",
       "1     0_1368    5.13      0\n",
       "2      0_731   17.99      0\n",
       "3      1_587    4.99      1\n",
       "4     0_1507    3.99      0\n",
       "...      ...     ...    ...\n",
       "3282    2_23  115.99      2\n",
       "3283   0_146   17.14      0\n",
       "3284   0_802   11.22      0\n",
       "3285   1_140   38.56      1\n",
       "3286  0_1920   25.16      0\n",
       "\n",
       "[3287 rows x 3 columns]"
      ]
     },
     "execution_count": 139,
     "metadata": {},
     "output_type": "execute_result"
    }
   ],
   "source": [
    "products"
   ]
  },
  {
   "cell_type": "code",
   "execution_count": 140,
   "id": "f319e370",
   "metadata": {},
   "outputs": [
    {
     "data": {
      "text/plain": [
       "(3287, 3)"
      ]
     },
     "execution_count": 140,
     "metadata": {},
     "output_type": "execute_result"
    }
   ],
   "source": [
    "products.shape"
   ]
  },
  {
   "cell_type": "code",
   "execution_count": 141,
   "id": "6cd8738d",
   "metadata": {},
   "outputs": [
    {
     "name": "stdout",
     "output_type": "stream",
     "text": [
      "<class 'pandas.core.frame.DataFrame'>\n",
      "RangeIndex: 3287 entries, 0 to 3286\n",
      "Data columns (total 3 columns):\n",
      " #   Column   Non-Null Count  Dtype  \n",
      "---  ------   --------------  -----  \n",
      " 0   id_prod  3287 non-null   object \n",
      " 1   price    3287 non-null   float64\n",
      " 2   categ    3287 non-null   int64  \n",
      "dtypes: float64(1), int64(1), object(1)\n",
      "memory usage: 77.2+ KB\n"
     ]
    }
   ],
   "source": [
    "products.info()"
   ]
  },
  {
   "cell_type": "code",
   "execution_count": 142,
   "id": "8fceed4e",
   "metadata": {},
   "outputs": [],
   "source": [
    "products = products.rename(columns={'id_prod':'id_product', 'categ':'category'})"
   ]
  },
  {
   "cell_type": "markdown",
   "id": "470d984d",
   "metadata": {},
   "source": [
    "###  2-b Utilisation de methodes .loc[] , .duplicated() , .drop_duplicates() pour observer l'unicité de clé primaire"
   ]
  },
  {
   "cell_type": "code",
   "execution_count": 143,
   "id": "2f69d882",
   "metadata": {},
   "outputs": [
    {
     "data": {
      "text/html": [
       "<div>\n",
       "<style scoped>\n",
       "    .dataframe tbody tr th:only-of-type {\n",
       "        vertical-align: middle;\n",
       "    }\n",
       "\n",
       "    .dataframe tbody tr th {\n",
       "        vertical-align: top;\n",
       "    }\n",
       "\n",
       "    .dataframe thead th {\n",
       "        text-align: right;\n",
       "    }\n",
       "</style>\n",
       "<table border=\"1\" class=\"dataframe\">\n",
       "  <thead>\n",
       "    <tr style=\"text-align: right;\">\n",
       "      <th></th>\n",
       "      <th>id_product</th>\n",
       "      <th>price</th>\n",
       "      <th>category</th>\n",
       "    </tr>\n",
       "  </thead>\n",
       "  <tbody>\n",
       "  </tbody>\n",
       "</table>\n",
       "</div>"
      ],
      "text/plain": [
       "Empty DataFrame\n",
       "Columns: [id_product, price, category]\n",
       "Index: []"
      ]
     },
     "execution_count": 143,
     "metadata": {},
     "output_type": "execute_result"
    }
   ],
   "source": [
    "products.loc[products[['id_product']].duplicated(keep=False)]\n",
    "\n",
    "# Unicité de clé primaire"
   ]
  },
  {
   "cell_type": "code",
   "execution_count": 144,
   "id": "6a519eba",
   "metadata": {},
   "outputs": [
    {
     "data": {
      "text/html": [
       "<div>\n",
       "<style scoped>\n",
       "    .dataframe tbody tr th:only-of-type {\n",
       "        vertical-align: middle;\n",
       "    }\n",
       "\n",
       "    .dataframe tbody tr th {\n",
       "        vertical-align: top;\n",
       "    }\n",
       "\n",
       "    .dataframe thead th {\n",
       "        text-align: right;\n",
       "    }\n",
       "</style>\n",
       "<table border=\"1\" class=\"dataframe\">\n",
       "  <thead>\n",
       "    <tr style=\"text-align: right;\">\n",
       "      <th></th>\n",
       "      <th>id_product</th>\n",
       "      <th>price</th>\n",
       "      <th>category</th>\n",
       "    </tr>\n",
       "  </thead>\n",
       "  <tbody>\n",
       "  </tbody>\n",
       "</table>\n",
       "</div>"
      ],
      "text/plain": [
       "Empty DataFrame\n",
       "Columns: [id_product, price, category]\n",
       "Index: []"
      ]
     },
     "execution_count": 144,
     "metadata": {},
     "output_type": "execute_result"
    }
   ],
   "source": [
    "products.loc[products[['id_product','price','category']].duplicated(keep=False)]"
   ]
  },
  {
   "cell_type": "code",
   "execution_count": 145,
   "id": "6ff1f690",
   "metadata": {},
   "outputs": [],
   "source": [
    "products.drop_duplicates(subset=['id_product','price','category'], inplace=True, ignore_index=True)"
   ]
  },
  {
   "cell_type": "code",
   "execution_count": 146,
   "id": "f524cf12",
   "metadata": {},
   "outputs": [
    {
     "data": {
      "text/html": [
       "<div>\n",
       "<style scoped>\n",
       "    .dataframe tbody tr th:only-of-type {\n",
       "        vertical-align: middle;\n",
       "    }\n",
       "\n",
       "    .dataframe tbody tr th {\n",
       "        vertical-align: top;\n",
       "    }\n",
       "\n",
       "    .dataframe thead th {\n",
       "        text-align: right;\n",
       "    }\n",
       "</style>\n",
       "<table border=\"1\" class=\"dataframe\">\n",
       "  <thead>\n",
       "    <tr style=\"text-align: right;\">\n",
       "      <th></th>\n",
       "      <th>id_product</th>\n",
       "      <th>price</th>\n",
       "      <th>category</th>\n",
       "    </tr>\n",
       "  </thead>\n",
       "  <tbody>\n",
       "    <tr>\n",
       "      <th>0</th>\n",
       "      <td>0_1421</td>\n",
       "      <td>19.99</td>\n",
       "      <td>0</td>\n",
       "    </tr>\n",
       "    <tr>\n",
       "      <th>1</th>\n",
       "      <td>0_1368</td>\n",
       "      <td>5.13</td>\n",
       "      <td>0</td>\n",
       "    </tr>\n",
       "    <tr>\n",
       "      <th>2</th>\n",
       "      <td>0_731</td>\n",
       "      <td>17.99</td>\n",
       "      <td>0</td>\n",
       "    </tr>\n",
       "    <tr>\n",
       "      <th>3</th>\n",
       "      <td>1_587</td>\n",
       "      <td>4.99</td>\n",
       "      <td>1</td>\n",
       "    </tr>\n",
       "    <tr>\n",
       "      <th>4</th>\n",
       "      <td>0_1507</td>\n",
       "      <td>3.99</td>\n",
       "      <td>0</td>\n",
       "    </tr>\n",
       "    <tr>\n",
       "      <th>...</th>\n",
       "      <td>...</td>\n",
       "      <td>...</td>\n",
       "      <td>...</td>\n",
       "    </tr>\n",
       "    <tr>\n",
       "      <th>3282</th>\n",
       "      <td>2_23</td>\n",
       "      <td>115.99</td>\n",
       "      <td>2</td>\n",
       "    </tr>\n",
       "    <tr>\n",
       "      <th>3283</th>\n",
       "      <td>0_146</td>\n",
       "      <td>17.14</td>\n",
       "      <td>0</td>\n",
       "    </tr>\n",
       "    <tr>\n",
       "      <th>3284</th>\n",
       "      <td>0_802</td>\n",
       "      <td>11.22</td>\n",
       "      <td>0</td>\n",
       "    </tr>\n",
       "    <tr>\n",
       "      <th>3285</th>\n",
       "      <td>1_140</td>\n",
       "      <td>38.56</td>\n",
       "      <td>1</td>\n",
       "    </tr>\n",
       "    <tr>\n",
       "      <th>3286</th>\n",
       "      <td>0_1920</td>\n",
       "      <td>25.16</td>\n",
       "      <td>0</td>\n",
       "    </tr>\n",
       "  </tbody>\n",
       "</table>\n",
       "<p>3287 rows × 3 columns</p>\n",
       "</div>"
      ],
      "text/plain": [
       "     id_product   price  category\n",
       "0        0_1421   19.99         0\n",
       "1        0_1368    5.13         0\n",
       "2         0_731   17.99         0\n",
       "3         1_587    4.99         1\n",
       "4        0_1507    3.99         0\n",
       "...         ...     ...       ...\n",
       "3282       2_23  115.99         2\n",
       "3283      0_146   17.14         0\n",
       "3284      0_802   11.22         0\n",
       "3285      1_140   38.56         1\n",
       "3286     0_1920   25.16         0\n",
       "\n",
       "[3287 rows x 3 columns]"
      ]
     },
     "execution_count": 146,
     "metadata": {},
     "output_type": "execute_result"
    }
   ],
   "source": [
    "products"
   ]
  },
  {
   "cell_type": "markdown",
   "id": "659b3c1c",
   "metadata": {},
   "source": [
    "##  3- Importation de la DataFrame transactions"
   ]
  },
  {
   "cell_type": "markdown",
   "id": "ed02cf91",
   "metadata": {},
   "source": [
    "### 3-a Utilisation de methodes, .info(), .shape, .rename() pour observer la dataframe"
   ]
  },
  {
   "cell_type": "code",
   "execution_count": 147,
   "id": "cd1409e9",
   "metadata": {},
   "outputs": [],
   "source": [
    "transactions = pd.read_csv('transactions.csv')"
   ]
  },
  {
   "cell_type": "code",
   "execution_count": 148,
   "id": "bed307e5",
   "metadata": {},
   "outputs": [
    {
     "data": {
      "text/html": [
       "<div>\n",
       "<style scoped>\n",
       "    .dataframe tbody tr th:only-of-type {\n",
       "        vertical-align: middle;\n",
       "    }\n",
       "\n",
       "    .dataframe tbody tr th {\n",
       "        vertical-align: top;\n",
       "    }\n",
       "\n",
       "    .dataframe thead th {\n",
       "        text-align: right;\n",
       "    }\n",
       "</style>\n",
       "<table border=\"1\" class=\"dataframe\">\n",
       "  <thead>\n",
       "    <tr style=\"text-align: right;\">\n",
       "      <th></th>\n",
       "      <th>id_prod</th>\n",
       "      <th>date</th>\n",
       "      <th>session_id</th>\n",
       "      <th>client_id</th>\n",
       "    </tr>\n",
       "  </thead>\n",
       "  <tbody>\n",
       "    <tr>\n",
       "      <th>0</th>\n",
       "      <td>0_1518</td>\n",
       "      <td>2022-05-20 13:21:29.043970</td>\n",
       "      <td>s_211425</td>\n",
       "      <td>c_103</td>\n",
       "    </tr>\n",
       "    <tr>\n",
       "      <th>1</th>\n",
       "      <td>1_251</td>\n",
       "      <td>2022-02-02 07:55:19.149409</td>\n",
       "      <td>s_158752</td>\n",
       "      <td>c_8534</td>\n",
       "    </tr>\n",
       "    <tr>\n",
       "      <th>2</th>\n",
       "      <td>0_1277</td>\n",
       "      <td>2022-06-18 15:44:33.155329</td>\n",
       "      <td>s_225667</td>\n",
       "      <td>c_6714</td>\n",
       "    </tr>\n",
       "    <tr>\n",
       "      <th>3</th>\n",
       "      <td>2_209</td>\n",
       "      <td>2021-06-24 04:19:29.835891</td>\n",
       "      <td>s_52962</td>\n",
       "      <td>c_6941</td>\n",
       "    </tr>\n",
       "    <tr>\n",
       "      <th>4</th>\n",
       "      <td>0_1509</td>\n",
       "      <td>2023-01-11 08:22:08.194479</td>\n",
       "      <td>s_325227</td>\n",
       "      <td>c_4232</td>\n",
       "    </tr>\n",
       "    <tr>\n",
       "      <th>...</th>\n",
       "      <td>...</td>\n",
       "      <td>...</td>\n",
       "      <td>...</td>\n",
       "      <td>...</td>\n",
       "    </tr>\n",
       "    <tr>\n",
       "      <th>679527</th>\n",
       "      <td>0_1551</td>\n",
       "      <td>2022-01-15 13:05:06.246925</td>\n",
       "      <td>s_150195</td>\n",
       "      <td>c_8489</td>\n",
       "    </tr>\n",
       "    <tr>\n",
       "      <th>679528</th>\n",
       "      <td>1_639</td>\n",
       "      <td>2022-03-19 16:03:23.429229</td>\n",
       "      <td>s_181434</td>\n",
       "      <td>c_4370</td>\n",
       "    </tr>\n",
       "    <tr>\n",
       "      <th>679529</th>\n",
       "      <td>0_1425</td>\n",
       "      <td>2022-12-20 04:33:37.584749</td>\n",
       "      <td>s_314704</td>\n",
       "      <td>c_304</td>\n",
       "    </tr>\n",
       "    <tr>\n",
       "      <th>679530</th>\n",
       "      <td>0_1994</td>\n",
       "      <td>2021-07-16 20:36:35.350579</td>\n",
       "      <td>s_63204</td>\n",
       "      <td>c_2227</td>\n",
       "    </tr>\n",
       "    <tr>\n",
       "      <th>679531</th>\n",
       "      <td>1_523</td>\n",
       "      <td>2022-09-28 01:12:01.973763</td>\n",
       "      <td>s_274568</td>\n",
       "      <td>c_3873</td>\n",
       "    </tr>\n",
       "  </tbody>\n",
       "</table>\n",
       "<p>679532 rows × 4 columns</p>\n",
       "</div>"
      ],
      "text/plain": [
       "       id_prod                        date session_id client_id\n",
       "0       0_1518  2022-05-20 13:21:29.043970   s_211425     c_103\n",
       "1        1_251  2022-02-02 07:55:19.149409   s_158752    c_8534\n",
       "2       0_1277  2022-06-18 15:44:33.155329   s_225667    c_6714\n",
       "3        2_209  2021-06-24 04:19:29.835891    s_52962    c_6941\n",
       "4       0_1509  2023-01-11 08:22:08.194479   s_325227    c_4232\n",
       "...        ...                         ...        ...       ...\n",
       "679527  0_1551  2022-01-15 13:05:06.246925   s_150195    c_8489\n",
       "679528   1_639  2022-03-19 16:03:23.429229   s_181434    c_4370\n",
       "679529  0_1425  2022-12-20 04:33:37.584749   s_314704     c_304\n",
       "679530  0_1994  2021-07-16 20:36:35.350579    s_63204    c_2227\n",
       "679531   1_523  2022-09-28 01:12:01.973763   s_274568    c_3873\n",
       "\n",
       "[679532 rows x 4 columns]"
      ]
     },
     "execution_count": 148,
     "metadata": {},
     "output_type": "execute_result"
    }
   ],
   "source": [
    "transactions"
   ]
  },
  {
   "cell_type": "code",
   "execution_count": 149,
   "id": "edfb1f8c",
   "metadata": {},
   "outputs": [
    {
     "data": {
      "text/plain": [
       "(679532, 4)"
      ]
     },
     "execution_count": 149,
     "metadata": {},
     "output_type": "execute_result"
    }
   ],
   "source": [
    "transactions.shape"
   ]
  },
  {
   "cell_type": "code",
   "execution_count": 150,
   "id": "5f85425e",
   "metadata": {},
   "outputs": [
    {
     "name": "stdout",
     "output_type": "stream",
     "text": [
      "<class 'pandas.core.frame.DataFrame'>\n",
      "RangeIndex: 679532 entries, 0 to 679531\n",
      "Data columns (total 4 columns):\n",
      " #   Column      Non-Null Count   Dtype \n",
      "---  ------      --------------   ----- \n",
      " 0   id_prod     679532 non-null  object\n",
      " 1   date        679532 non-null  object\n",
      " 2   session_id  679532 non-null  object\n",
      " 3   client_id   679532 non-null  object\n",
      "dtypes: object(4)\n",
      "memory usage: 20.7+ MB\n"
     ]
    }
   ],
   "source": [
    "transactions.info()"
   ]
  },
  {
   "cell_type": "code",
   "execution_count": 151,
   "id": "752b263f",
   "metadata": {},
   "outputs": [],
   "source": [
    "transactions = transactions.rename(columns={'id_prod':'id_product'})"
   ]
  },
  {
   "cell_type": "markdown",
   "id": "efffec85",
   "metadata": {},
   "source": [
    "### 3-b Utilisation de methodes, .sort_values(), .startswith(), .to_datetime() pour definir le bon format de date"
   ]
  },
  {
   "cell_type": "code",
   "execution_count": 152,
   "id": "75443ea7",
   "metadata": {},
   "outputs": [
    {
     "data": {
      "text/html": [
       "<div>\n",
       "<style scoped>\n",
       "    .dataframe tbody tr th:only-of-type {\n",
       "        vertical-align: middle;\n",
       "    }\n",
       "\n",
       "    .dataframe tbody tr th {\n",
       "        vertical-align: top;\n",
       "    }\n",
       "\n",
       "    .dataframe thead th {\n",
       "        text-align: right;\n",
       "    }\n",
       "</style>\n",
       "<table border=\"1\" class=\"dataframe\">\n",
       "  <thead>\n",
       "    <tr style=\"text-align: right;\">\n",
       "      <th></th>\n",
       "      <th>id_product</th>\n",
       "      <th>date</th>\n",
       "      <th>session_id</th>\n",
       "      <th>client_id</th>\n",
       "    </tr>\n",
       "  </thead>\n",
       "  <tbody>\n",
       "    <tr>\n",
       "      <th>480642</th>\n",
       "      <td>0_1259</td>\n",
       "      <td>2021-03-01 00:01:07.843138</td>\n",
       "      <td>s_1</td>\n",
       "      <td>c_329</td>\n",
       "    </tr>\n",
       "    <tr>\n",
       "      <th>428477</th>\n",
       "      <td>0_1390</td>\n",
       "      <td>2021-03-01 00:02:26.047414</td>\n",
       "      <td>s_2</td>\n",
       "      <td>c_664</td>\n",
       "    </tr>\n",
       "    <tr>\n",
       "      <th>462702</th>\n",
       "      <td>0_1352</td>\n",
       "      <td>2021-03-01 00:02:38.311413</td>\n",
       "      <td>s_3</td>\n",
       "      <td>c_580</td>\n",
       "    </tr>\n",
       "    <tr>\n",
       "      <th>488300</th>\n",
       "      <td>0_1458</td>\n",
       "      <td>2021-03-01 00:04:54.559692</td>\n",
       "      <td>s_4</td>\n",
       "      <td>c_7912</td>\n",
       "    </tr>\n",
       "    <tr>\n",
       "      <th>439073</th>\n",
       "      <td>0_1358</td>\n",
       "      <td>2021-03-01 00:05:18.801198</td>\n",
       "      <td>s_5</td>\n",
       "      <td>c_2033</td>\n",
       "    </tr>\n",
       "    <tr>\n",
       "      <th>...</th>\n",
       "      <td>...</td>\n",
       "      <td>...</td>\n",
       "      <td>...</td>\n",
       "      <td>...</td>\n",
       "    </tr>\n",
       "    <tr>\n",
       "      <th>392443</th>\n",
       "      <td>T_0</td>\n",
       "      <td>test_2021-03-01 02:30:02.237448</td>\n",
       "      <td>s_0</td>\n",
       "      <td>ct_0</td>\n",
       "    </tr>\n",
       "    <tr>\n",
       "      <th>670680</th>\n",
       "      <td>T_0</td>\n",
       "      <td>test_2021-03-01 02:30:02.237449</td>\n",
       "      <td>s_0</td>\n",
       "      <td>ct_1</td>\n",
       "    </tr>\n",
       "    <tr>\n",
       "      <th>19312</th>\n",
       "      <td>T_0</td>\n",
       "      <td>test_2021-03-01 02:30:02.237449</td>\n",
       "      <td>s_0</td>\n",
       "      <td>ct_0</td>\n",
       "    </tr>\n",
       "    <tr>\n",
       "      <th>573155</th>\n",
       "      <td>T_0</td>\n",
       "      <td>test_2021-03-01 02:30:02.237449</td>\n",
       "      <td>s_0</td>\n",
       "      <td>ct_0</td>\n",
       "    </tr>\n",
       "    <tr>\n",
       "      <th>246980</th>\n",
       "      <td>T_0</td>\n",
       "      <td>test_2021-03-01 02:30:02.237450</td>\n",
       "      <td>s_0</td>\n",
       "      <td>ct_0</td>\n",
       "    </tr>\n",
       "  </tbody>\n",
       "</table>\n",
       "<p>679532 rows × 4 columns</p>\n",
       "</div>"
      ],
      "text/plain": [
       "       id_product                             date session_id client_id\n",
       "480642     0_1259       2021-03-01 00:01:07.843138        s_1     c_329\n",
       "428477     0_1390       2021-03-01 00:02:26.047414        s_2     c_664\n",
       "462702     0_1352       2021-03-01 00:02:38.311413        s_3     c_580\n",
       "488300     0_1458       2021-03-01 00:04:54.559692        s_4    c_7912\n",
       "439073     0_1358       2021-03-01 00:05:18.801198        s_5    c_2033\n",
       "...           ...                              ...        ...       ...\n",
       "392443        T_0  test_2021-03-01 02:30:02.237448        s_0      ct_0\n",
       "670680        T_0  test_2021-03-01 02:30:02.237449        s_0      ct_1\n",
       "19312         T_0  test_2021-03-01 02:30:02.237449        s_0      ct_0\n",
       "573155        T_0  test_2021-03-01 02:30:02.237449        s_0      ct_0\n",
       "246980        T_0  test_2021-03-01 02:30:02.237450        s_0      ct_0\n",
       "\n",
       "[679532 rows x 4 columns]"
      ]
     },
     "execution_count": 152,
     "metadata": {},
     "output_type": "execute_result"
    }
   ],
   "source": [
    "transactions.sort_values(\"date\")"
   ]
  },
  {
   "cell_type": "code",
   "execution_count": 153,
   "id": "33718c75",
   "metadata": {},
   "outputs": [],
   "source": [
    "transactions = transactions[~transactions.date.str.startswith(\"test\")]\n",
    "\n",
    "# filtration selon les lignes avec un test boolean qui renvoie le format de date en vrai et le format test_date en faux\n",
    "# La fonction startswith() est utilisée pour vérifier si une phrase donnée commence par une string particulière."
   ]
  },
  {
   "cell_type": "code",
   "execution_count": 154,
   "id": "16fcc8cb",
   "metadata": {},
   "outputs": [],
   "source": [
    "transactions['date'] = pd.to_datetime(transactions['date'],format='%Y-%m-%d %H:%M:%S')"
   ]
  },
  {
   "cell_type": "code",
   "execution_count": 155,
   "id": "c1bc4276",
   "metadata": {},
   "outputs": [
    {
     "data": {
      "text/html": [
       "<div>\n",
       "<style scoped>\n",
       "    .dataframe tbody tr th:only-of-type {\n",
       "        vertical-align: middle;\n",
       "    }\n",
       "\n",
       "    .dataframe tbody tr th {\n",
       "        vertical-align: top;\n",
       "    }\n",
       "\n",
       "    .dataframe thead th {\n",
       "        text-align: right;\n",
       "    }\n",
       "</style>\n",
       "<table border=\"1\" class=\"dataframe\">\n",
       "  <thead>\n",
       "    <tr style=\"text-align: right;\">\n",
       "      <th></th>\n",
       "      <th>id_product</th>\n",
       "      <th>date</th>\n",
       "      <th>session_id</th>\n",
       "      <th>client_id</th>\n",
       "    </tr>\n",
       "  </thead>\n",
       "  <tbody>\n",
       "    <tr>\n",
       "      <th>0</th>\n",
       "      <td>0_1518</td>\n",
       "      <td>2022-05-20 13:21:29.043970</td>\n",
       "      <td>s_211425</td>\n",
       "      <td>c_103</td>\n",
       "    </tr>\n",
       "    <tr>\n",
       "      <th>1</th>\n",
       "      <td>1_251</td>\n",
       "      <td>2022-02-02 07:55:19.149409</td>\n",
       "      <td>s_158752</td>\n",
       "      <td>c_8534</td>\n",
       "    </tr>\n",
       "    <tr>\n",
       "      <th>2</th>\n",
       "      <td>0_1277</td>\n",
       "      <td>2022-06-18 15:44:33.155329</td>\n",
       "      <td>s_225667</td>\n",
       "      <td>c_6714</td>\n",
       "    </tr>\n",
       "    <tr>\n",
       "      <th>3</th>\n",
       "      <td>2_209</td>\n",
       "      <td>2021-06-24 04:19:29.835891</td>\n",
       "      <td>s_52962</td>\n",
       "      <td>c_6941</td>\n",
       "    </tr>\n",
       "    <tr>\n",
       "      <th>4</th>\n",
       "      <td>0_1509</td>\n",
       "      <td>2023-01-11 08:22:08.194479</td>\n",
       "      <td>s_325227</td>\n",
       "      <td>c_4232</td>\n",
       "    </tr>\n",
       "    <tr>\n",
       "      <th>...</th>\n",
       "      <td>...</td>\n",
       "      <td>...</td>\n",
       "      <td>...</td>\n",
       "      <td>...</td>\n",
       "    </tr>\n",
       "    <tr>\n",
       "      <th>679527</th>\n",
       "      <td>0_1551</td>\n",
       "      <td>2022-01-15 13:05:06.246925</td>\n",
       "      <td>s_150195</td>\n",
       "      <td>c_8489</td>\n",
       "    </tr>\n",
       "    <tr>\n",
       "      <th>679528</th>\n",
       "      <td>1_639</td>\n",
       "      <td>2022-03-19 16:03:23.429229</td>\n",
       "      <td>s_181434</td>\n",
       "      <td>c_4370</td>\n",
       "    </tr>\n",
       "    <tr>\n",
       "      <th>679529</th>\n",
       "      <td>0_1425</td>\n",
       "      <td>2022-12-20 04:33:37.584749</td>\n",
       "      <td>s_314704</td>\n",
       "      <td>c_304</td>\n",
       "    </tr>\n",
       "    <tr>\n",
       "      <th>679530</th>\n",
       "      <td>0_1994</td>\n",
       "      <td>2021-07-16 20:36:35.350579</td>\n",
       "      <td>s_63204</td>\n",
       "      <td>c_2227</td>\n",
       "    </tr>\n",
       "    <tr>\n",
       "      <th>679531</th>\n",
       "      <td>1_523</td>\n",
       "      <td>2022-09-28 01:12:01.973763</td>\n",
       "      <td>s_274568</td>\n",
       "      <td>c_3873</td>\n",
       "    </tr>\n",
       "  </tbody>\n",
       "</table>\n",
       "<p>679332 rows × 4 columns</p>\n",
       "</div>"
      ],
      "text/plain": [
       "       id_product                       date session_id client_id\n",
       "0          0_1518 2022-05-20 13:21:29.043970   s_211425     c_103\n",
       "1           1_251 2022-02-02 07:55:19.149409   s_158752    c_8534\n",
       "2          0_1277 2022-06-18 15:44:33.155329   s_225667    c_6714\n",
       "3           2_209 2021-06-24 04:19:29.835891    s_52962    c_6941\n",
       "4          0_1509 2023-01-11 08:22:08.194479   s_325227    c_4232\n",
       "...           ...                        ...        ...       ...\n",
       "679527     0_1551 2022-01-15 13:05:06.246925   s_150195    c_8489\n",
       "679528      1_639 2022-03-19 16:03:23.429229   s_181434    c_4370\n",
       "679529     0_1425 2022-12-20 04:33:37.584749   s_314704     c_304\n",
       "679530     0_1994 2021-07-16 20:36:35.350579    s_63204    c_2227\n",
       "679531      1_523 2022-09-28 01:12:01.973763   s_274568    c_3873\n",
       "\n",
       "[679332 rows x 4 columns]"
      ]
     },
     "execution_count": 155,
     "metadata": {},
     "output_type": "execute_result"
    }
   ],
   "source": [
    "transactions"
   ]
  },
  {
   "cell_type": "markdown",
   "id": "088a17bd",
   "metadata": {},
   "source": [
    "## II- RAPPROCHEMENT DES DATAFRAMES"
   ]
  },
  {
   "cell_type": "markdown",
   "id": "ac3006e0",
   "metadata": {},
   "source": [
    "## 1- Jointure externe des dataframes et observation des valeurs manquantes"
   ]
  },
  {
   "cell_type": "code",
   "execution_count": 156,
   "id": "12b0849a",
   "metadata": {},
   "outputs": [],
   "source": [
    "df_transactions_customers = pd.merge(transactions,customers, on='client_id', how='outer')"
   ]
  },
  {
   "cell_type": "code",
   "execution_count": 157,
   "id": "cd1b1d3f",
   "metadata": {},
   "outputs": [
    {
     "data": {
      "text/html": [
       "<div>\n",
       "<style scoped>\n",
       "    .dataframe tbody tr th:only-of-type {\n",
       "        vertical-align: middle;\n",
       "    }\n",
       "\n",
       "    .dataframe tbody tr th {\n",
       "        vertical-align: top;\n",
       "    }\n",
       "\n",
       "    .dataframe thead th {\n",
       "        text-align: right;\n",
       "    }\n",
       "</style>\n",
       "<table border=\"1\" class=\"dataframe\">\n",
       "  <thead>\n",
       "    <tr style=\"text-align: right;\">\n",
       "      <th></th>\n",
       "      <th>id_product</th>\n",
       "      <th>date</th>\n",
       "      <th>session_id</th>\n",
       "      <th>client_id</th>\n",
       "      <th>sex</th>\n",
       "      <th>birthday</th>\n",
       "    </tr>\n",
       "  </thead>\n",
       "  <tbody>\n",
       "    <tr>\n",
       "      <th>0</th>\n",
       "      <td>0_1518</td>\n",
       "      <td>2022-05-20 13:21:29.043970</td>\n",
       "      <td>s_211425</td>\n",
       "      <td>c_103</td>\n",
       "      <td>f</td>\n",
       "      <td>1986</td>\n",
       "    </tr>\n",
       "    <tr>\n",
       "      <th>1</th>\n",
       "      <td>0_1627</td>\n",
       "      <td>2022-06-18 05:55:31.816994</td>\n",
       "      <td>s_225494</td>\n",
       "      <td>c_103</td>\n",
       "      <td>f</td>\n",
       "      <td>1986</td>\n",
       "    </tr>\n",
       "    <tr>\n",
       "      <th>2</th>\n",
       "      <td>0_1104</td>\n",
       "      <td>2023-02-08 17:31:06.898425</td>\n",
       "      <td>s_338755</td>\n",
       "      <td>c_103</td>\n",
       "      <td>f</td>\n",
       "      <td>1986</td>\n",
       "    </tr>\n",
       "    <tr>\n",
       "      <th>3</th>\n",
       "      <td>0_1390</td>\n",
       "      <td>2021-04-20 06:18:39.939761</td>\n",
       "      <td>s_23078</td>\n",
       "      <td>c_103</td>\n",
       "      <td>f</td>\n",
       "      <td>1986</td>\n",
       "    </tr>\n",
       "    <tr>\n",
       "      <th>4</th>\n",
       "      <td>0_1547</td>\n",
       "      <td>2022-03-15 19:54:53.904123</td>\n",
       "      <td>s_179629</td>\n",
       "      <td>c_103</td>\n",
       "      <td>f</td>\n",
       "      <td>1986</td>\n",
       "    </tr>\n",
       "    <tr>\n",
       "      <th>...</th>\n",
       "      <td>...</td>\n",
       "      <td>...</td>\n",
       "      <td>...</td>\n",
       "      <td>...</td>\n",
       "      <td>...</td>\n",
       "      <td>...</td>\n",
       "    </tr>\n",
       "    <tr>\n",
       "      <th>679350</th>\n",
       "      <td>NaN</td>\n",
       "      <td>NaT</td>\n",
       "      <td>NaN</td>\n",
       "      <td>c_7584</td>\n",
       "      <td>f</td>\n",
       "      <td>1960</td>\n",
       "    </tr>\n",
       "    <tr>\n",
       "      <th>679351</th>\n",
       "      <td>NaN</td>\n",
       "      <td>NaT</td>\n",
       "      <td>NaN</td>\n",
       "      <td>c_90</td>\n",
       "      <td>m</td>\n",
       "      <td>2001</td>\n",
       "    </tr>\n",
       "    <tr>\n",
       "      <th>679352</th>\n",
       "      <td>NaN</td>\n",
       "      <td>NaT</td>\n",
       "      <td>NaN</td>\n",
       "      <td>c_587</td>\n",
       "      <td>m</td>\n",
       "      <td>1993</td>\n",
       "    </tr>\n",
       "    <tr>\n",
       "      <th>679353</th>\n",
       "      <td>NaN</td>\n",
       "      <td>NaT</td>\n",
       "      <td>NaN</td>\n",
       "      <td>ct_1</td>\n",
       "      <td>m</td>\n",
       "      <td>2001</td>\n",
       "    </tr>\n",
       "    <tr>\n",
       "      <th>679354</th>\n",
       "      <td>NaN</td>\n",
       "      <td>NaT</td>\n",
       "      <td>NaN</td>\n",
       "      <td>c_3526</td>\n",
       "      <td>m</td>\n",
       "      <td>1956</td>\n",
       "    </tr>\n",
       "  </tbody>\n",
       "</table>\n",
       "<p>679355 rows × 6 columns</p>\n",
       "</div>"
      ],
      "text/plain": [
       "       id_product                       date session_id client_id sex  \\\n",
       "0          0_1518 2022-05-20 13:21:29.043970   s_211425     c_103   f   \n",
       "1          0_1627 2022-06-18 05:55:31.816994   s_225494     c_103   f   \n",
       "2          0_1104 2023-02-08 17:31:06.898425   s_338755     c_103   f   \n",
       "3          0_1390 2021-04-20 06:18:39.939761    s_23078     c_103   f   \n",
       "4          0_1547 2022-03-15 19:54:53.904123   s_179629     c_103   f   \n",
       "...           ...                        ...        ...       ...  ..   \n",
       "679350        NaN                        NaT        NaN    c_7584   f   \n",
       "679351        NaN                        NaT        NaN      c_90   m   \n",
       "679352        NaN                        NaT        NaN     c_587   m   \n",
       "679353        NaN                        NaT        NaN      ct_1   m   \n",
       "679354        NaN                        NaT        NaN    c_3526   m   \n",
       "\n",
       "        birthday  \n",
       "0           1986  \n",
       "1           1986  \n",
       "2           1986  \n",
       "3           1986  \n",
       "4           1986  \n",
       "...          ...  \n",
       "679350      1960  \n",
       "679351      2001  \n",
       "679352      1993  \n",
       "679353      2001  \n",
       "679354      1956  \n",
       "\n",
       "[679355 rows x 6 columns]"
      ]
     },
     "execution_count": 157,
     "metadata": {},
     "output_type": "execute_result"
    }
   ],
   "source": [
    "df_transactions_customers"
   ]
  },
  {
   "cell_type": "markdown",
   "id": "339500b3",
   "metadata": {},
   "source": [
    "On observe que les customers qui sont repertoriés ici presentent des valeurs nulles (NaN) au niveau des transactions.\n",
    "parce que, il n'y a aucune transaction lié a ses customers. donc ses valeurs nulles peuvent etre suprimers"
   ]
  },
  {
   "cell_type": "code",
   "execution_count": 158,
   "id": "d1c91ebb",
   "metadata": {},
   "outputs": [],
   "source": [
    "df_transactions_customers_products = pd.merge(df_transactions_customers,products, on='id_product', how='outer')"
   ]
  },
  {
   "cell_type": "code",
   "execution_count": 159,
   "id": "0919b06f",
   "metadata": {},
   "outputs": [
    {
     "data": {
      "text/html": [
       "<div>\n",
       "<style scoped>\n",
       "    .dataframe tbody tr th:only-of-type {\n",
       "        vertical-align: middle;\n",
       "    }\n",
       "\n",
       "    .dataframe tbody tr th {\n",
       "        vertical-align: top;\n",
       "    }\n",
       "\n",
       "    .dataframe thead th {\n",
       "        text-align: right;\n",
       "    }\n",
       "</style>\n",
       "<table border=\"1\" class=\"dataframe\">\n",
       "  <thead>\n",
       "    <tr style=\"text-align: right;\">\n",
       "      <th></th>\n",
       "      <th>id_product</th>\n",
       "      <th>date</th>\n",
       "      <th>session_id</th>\n",
       "      <th>client_id</th>\n",
       "      <th>sex</th>\n",
       "      <th>birthday</th>\n",
       "      <th>price</th>\n",
       "      <th>category</th>\n",
       "    </tr>\n",
       "  </thead>\n",
       "  <tbody>\n",
       "    <tr>\n",
       "      <th>0</th>\n",
       "      <td>0_1518</td>\n",
       "      <td>2022-05-20 13:21:29.043970</td>\n",
       "      <td>s_211425</td>\n",
       "      <td>c_103</td>\n",
       "      <td>f</td>\n",
       "      <td>1986.0</td>\n",
       "      <td>4.18</td>\n",
       "      <td>0.0</td>\n",
       "    </tr>\n",
       "    <tr>\n",
       "      <th>1</th>\n",
       "      <td>0_1518</td>\n",
       "      <td>2021-07-20 13:21:29.043970</td>\n",
       "      <td>s_64849</td>\n",
       "      <td>c_103</td>\n",
       "      <td>f</td>\n",
       "      <td>1986.0</td>\n",
       "      <td>4.18</td>\n",
       "      <td>0.0</td>\n",
       "    </tr>\n",
       "    <tr>\n",
       "      <th>2</th>\n",
       "      <td>0_1518</td>\n",
       "      <td>2022-08-20 13:21:29.043970</td>\n",
       "      <td>s_255965</td>\n",
       "      <td>c_103</td>\n",
       "      <td>f</td>\n",
       "      <td>1986.0</td>\n",
       "      <td>4.18</td>\n",
       "      <td>0.0</td>\n",
       "    </tr>\n",
       "    <tr>\n",
       "      <th>3</th>\n",
       "      <td>0_1518</td>\n",
       "      <td>2021-05-09 11:52:55.100386</td>\n",
       "      <td>s_32104</td>\n",
       "      <td>c_6714</td>\n",
       "      <td>f</td>\n",
       "      <td>1968.0</td>\n",
       "      <td>4.18</td>\n",
       "      <td>0.0</td>\n",
       "    </tr>\n",
       "    <tr>\n",
       "      <th>4</th>\n",
       "      <td>0_1518</td>\n",
       "      <td>2022-05-30 01:17:07.487046</td>\n",
       "      <td>s_216118</td>\n",
       "      <td>c_6714</td>\n",
       "      <td>f</td>\n",
       "      <td>1968.0</td>\n",
       "      <td>4.18</td>\n",
       "      <td>0.0</td>\n",
       "    </tr>\n",
       "    <tr>\n",
       "      <th>...</th>\n",
       "      <td>...</td>\n",
       "      <td>...</td>\n",
       "      <td>...</td>\n",
       "      <td>...</td>\n",
       "      <td>...</td>\n",
       "      <td>...</td>\n",
       "      <td>...</td>\n",
       "      <td>...</td>\n",
       "    </tr>\n",
       "    <tr>\n",
       "      <th>679372</th>\n",
       "      <td>0_1624</td>\n",
       "      <td>NaT</td>\n",
       "      <td>NaN</td>\n",
       "      <td>NaN</td>\n",
       "      <td>NaN</td>\n",
       "      <td>NaN</td>\n",
       "      <td>24.50</td>\n",
       "      <td>0.0</td>\n",
       "    </tr>\n",
       "    <tr>\n",
       "      <th>679373</th>\n",
       "      <td>2_86</td>\n",
       "      <td>NaT</td>\n",
       "      <td>NaN</td>\n",
       "      <td>NaN</td>\n",
       "      <td>NaN</td>\n",
       "      <td>NaN</td>\n",
       "      <td>132.36</td>\n",
       "      <td>2.0</td>\n",
       "    </tr>\n",
       "    <tr>\n",
       "      <th>679374</th>\n",
       "      <td>0_299</td>\n",
       "      <td>NaT</td>\n",
       "      <td>NaN</td>\n",
       "      <td>NaN</td>\n",
       "      <td>NaN</td>\n",
       "      <td>NaN</td>\n",
       "      <td>22.99</td>\n",
       "      <td>0.0</td>\n",
       "    </tr>\n",
       "    <tr>\n",
       "      <th>679375</th>\n",
       "      <td>0_510</td>\n",
       "      <td>NaT</td>\n",
       "      <td>NaN</td>\n",
       "      <td>NaN</td>\n",
       "      <td>NaN</td>\n",
       "      <td>NaN</td>\n",
       "      <td>23.66</td>\n",
       "      <td>0.0</td>\n",
       "    </tr>\n",
       "    <tr>\n",
       "      <th>679376</th>\n",
       "      <td>0_2308</td>\n",
       "      <td>NaT</td>\n",
       "      <td>NaN</td>\n",
       "      <td>NaN</td>\n",
       "      <td>NaN</td>\n",
       "      <td>NaN</td>\n",
       "      <td>20.28</td>\n",
       "      <td>0.0</td>\n",
       "    </tr>\n",
       "  </tbody>\n",
       "</table>\n",
       "<p>679377 rows × 8 columns</p>\n",
       "</div>"
      ],
      "text/plain": [
       "       id_product                       date session_id client_id  sex  \\\n",
       "0          0_1518 2022-05-20 13:21:29.043970   s_211425     c_103    f   \n",
       "1          0_1518 2021-07-20 13:21:29.043970    s_64849     c_103    f   \n",
       "2          0_1518 2022-08-20 13:21:29.043970   s_255965     c_103    f   \n",
       "3          0_1518 2021-05-09 11:52:55.100386    s_32104    c_6714    f   \n",
       "4          0_1518 2022-05-30 01:17:07.487046   s_216118    c_6714    f   \n",
       "...           ...                        ...        ...       ...  ...   \n",
       "679372     0_1624                        NaT        NaN       NaN  NaN   \n",
       "679373       2_86                        NaT        NaN       NaN  NaN   \n",
       "679374      0_299                        NaT        NaN       NaN  NaN   \n",
       "679375      0_510                        NaT        NaN       NaN  NaN   \n",
       "679376     0_2308                        NaT        NaN       NaN  NaN   \n",
       "\n",
       "        birthday   price  category  \n",
       "0         1986.0    4.18       0.0  \n",
       "1         1986.0    4.18       0.0  \n",
       "2         1986.0    4.18       0.0  \n",
       "3         1968.0    4.18       0.0  \n",
       "4         1968.0    4.18       0.0  \n",
       "...          ...     ...       ...  \n",
       "679372       NaN   24.50       0.0  \n",
       "679373       NaN  132.36       2.0  \n",
       "679374       NaN   22.99       0.0  \n",
       "679375       NaN   23.66       0.0  \n",
       "679376       NaN   20.28       0.0  \n",
       "\n",
       "[679377 rows x 8 columns]"
      ]
     },
     "execution_count": 159,
     "metadata": {},
     "output_type": "execute_result"
    }
   ],
   "source": [
    "df_transactions_customers_products"
   ]
  },
  {
   "cell_type": "markdown",
   "id": "903d7f7c",
   "metadata": {},
   "source": [
    "On observe également ici les produits qui n'ont pas été vendu presentent des valeurs nulles au niveau des transactions. parce que, il n'y a aucune transaction lié a ses produits. Par consequent, ses valeurs nulles peuvent etre suprimers"
   ]
  },
  {
   "cell_type": "code",
   "execution_count": 160,
   "id": "04e1f662",
   "metadata": {},
   "outputs": [
    {
     "data": {
      "text/plain": [
       "id_product     23\n",
       "date           45\n",
       "session_id     45\n",
       "client_id      22\n",
       "sex            22\n",
       "birthday       22\n",
       "price         244\n",
       "category      244\n",
       "dtype: int64"
      ]
     },
     "execution_count": 160,
     "metadata": {},
     "output_type": "execute_result"
    }
   ],
   "source": [
    "df_transactions_customers_products.isnull().sum()"
   ]
  },
  {
   "cell_type": "markdown",
   "id": "bd401521",
   "metadata": {},
   "source": [
    "### 1-a Utilisation de la methode .dropna() pour suprimer les valeurs nulles"
   ]
  },
  {
   "cell_type": "code",
   "execution_count": 161,
   "id": "5c320031",
   "metadata": {},
   "outputs": [],
   "source": [
    "df_transactions_customers_products = df_transactions_customers_products.dropna()\n",
    "\n",
    "# supressions des valeurs NaN"
   ]
  },
  {
   "cell_type": "code",
   "execution_count": 162,
   "id": "5231222e",
   "metadata": {},
   "outputs": [
    {
     "data": {
      "text/html": [
       "<div>\n",
       "<style scoped>\n",
       "    .dataframe tbody tr th:only-of-type {\n",
       "        vertical-align: middle;\n",
       "    }\n",
       "\n",
       "    .dataframe tbody tr th {\n",
       "        vertical-align: top;\n",
       "    }\n",
       "\n",
       "    .dataframe thead th {\n",
       "        text-align: right;\n",
       "    }\n",
       "</style>\n",
       "<table border=\"1\" class=\"dataframe\">\n",
       "  <thead>\n",
       "    <tr style=\"text-align: right;\">\n",
       "      <th></th>\n",
       "      <th>id_product</th>\n",
       "      <th>date</th>\n",
       "      <th>session_id</th>\n",
       "      <th>client_id</th>\n",
       "      <th>sex</th>\n",
       "      <th>birthday</th>\n",
       "      <th>price</th>\n",
       "      <th>category</th>\n",
       "    </tr>\n",
       "  </thead>\n",
       "  <tbody>\n",
       "    <tr>\n",
       "      <th>0</th>\n",
       "      <td>0_1518</td>\n",
       "      <td>2022-05-20 13:21:29.043970</td>\n",
       "      <td>s_211425</td>\n",
       "      <td>c_103</td>\n",
       "      <td>f</td>\n",
       "      <td>1986.0</td>\n",
       "      <td>4.18</td>\n",
       "      <td>0.0</td>\n",
       "    </tr>\n",
       "    <tr>\n",
       "      <th>1</th>\n",
       "      <td>0_1518</td>\n",
       "      <td>2021-07-20 13:21:29.043970</td>\n",
       "      <td>s_64849</td>\n",
       "      <td>c_103</td>\n",
       "      <td>f</td>\n",
       "      <td>1986.0</td>\n",
       "      <td>4.18</td>\n",
       "      <td>0.0</td>\n",
       "    </tr>\n",
       "    <tr>\n",
       "      <th>2</th>\n",
       "      <td>0_1518</td>\n",
       "      <td>2022-08-20 13:21:29.043970</td>\n",
       "      <td>s_255965</td>\n",
       "      <td>c_103</td>\n",
       "      <td>f</td>\n",
       "      <td>1986.0</td>\n",
       "      <td>4.18</td>\n",
       "      <td>0.0</td>\n",
       "    </tr>\n",
       "    <tr>\n",
       "      <th>3</th>\n",
       "      <td>0_1518</td>\n",
       "      <td>2021-05-09 11:52:55.100386</td>\n",
       "      <td>s_32104</td>\n",
       "      <td>c_6714</td>\n",
       "      <td>f</td>\n",
       "      <td>1968.0</td>\n",
       "      <td>4.18</td>\n",
       "      <td>0.0</td>\n",
       "    </tr>\n",
       "    <tr>\n",
       "      <th>4</th>\n",
       "      <td>0_1518</td>\n",
       "      <td>2022-05-30 01:17:07.487046</td>\n",
       "      <td>s_216118</td>\n",
       "      <td>c_6714</td>\n",
       "      <td>f</td>\n",
       "      <td>1968.0</td>\n",
       "      <td>4.18</td>\n",
       "      <td>0.0</td>\n",
       "    </tr>\n",
       "    <tr>\n",
       "      <th>...</th>\n",
       "      <td>...</td>\n",
       "      <td>...</td>\n",
       "      <td>...</td>\n",
       "      <td>...</td>\n",
       "      <td>...</td>\n",
       "      <td>...</td>\n",
       "      <td>...</td>\n",
       "      <td>...</td>\n",
       "    </tr>\n",
       "    <tr>\n",
       "      <th>679327</th>\n",
       "      <td>1_408</td>\n",
       "      <td>2023-01-26 06:52:02.225335</td>\n",
       "      <td>s_332548</td>\n",
       "      <td>c_7402</td>\n",
       "      <td>m</td>\n",
       "      <td>1945.0</td>\n",
       "      <td>35.24</td>\n",
       "      <td>1.0</td>\n",
       "    </tr>\n",
       "    <tr>\n",
       "      <th>679328</th>\n",
       "      <td>1_408</td>\n",
       "      <td>2022-11-26 06:52:02.225335</td>\n",
       "      <td>s_302962</td>\n",
       "      <td>c_7402</td>\n",
       "      <td>m</td>\n",
       "      <td>1945.0</td>\n",
       "      <td>35.24</td>\n",
       "      <td>1.0</td>\n",
       "    </tr>\n",
       "    <tr>\n",
       "      <th>679329</th>\n",
       "      <td>1_408</td>\n",
       "      <td>2021-09-26 06:52:02.225335</td>\n",
       "      <td>s_95708</td>\n",
       "      <td>c_7402</td>\n",
       "      <td>m</td>\n",
       "      <td>1945.0</td>\n",
       "      <td>35.24</td>\n",
       "      <td>1.0</td>\n",
       "    </tr>\n",
       "    <tr>\n",
       "      <th>679330</th>\n",
       "      <td>2_81</td>\n",
       "      <td>2022-02-19 14:51:58.078656</td>\n",
       "      <td>s_167662</td>\n",
       "      <td>c_7616</td>\n",
       "      <td>m</td>\n",
       "      <td>1993.0</td>\n",
       "      <td>86.99</td>\n",
       "      <td>2.0</td>\n",
       "    </tr>\n",
       "    <tr>\n",
       "      <th>679331</th>\n",
       "      <td>2_98</td>\n",
       "      <td>2021-03-08 21:10:32.250919</td>\n",
       "      <td>s_3637</td>\n",
       "      <td>c_5967</td>\n",
       "      <td>f</td>\n",
       "      <td>2003.0</td>\n",
       "      <td>149.74</td>\n",
       "      <td>2.0</td>\n",
       "    </tr>\n",
       "  </tbody>\n",
       "</table>\n",
       "<p>679111 rows × 8 columns</p>\n",
       "</div>"
      ],
      "text/plain": [
       "       id_product                       date session_id client_id sex  \\\n",
       "0          0_1518 2022-05-20 13:21:29.043970   s_211425     c_103   f   \n",
       "1          0_1518 2021-07-20 13:21:29.043970    s_64849     c_103   f   \n",
       "2          0_1518 2022-08-20 13:21:29.043970   s_255965     c_103   f   \n",
       "3          0_1518 2021-05-09 11:52:55.100386    s_32104    c_6714   f   \n",
       "4          0_1518 2022-05-30 01:17:07.487046   s_216118    c_6714   f   \n",
       "...           ...                        ...        ...       ...  ..   \n",
       "679327      1_408 2023-01-26 06:52:02.225335   s_332548    c_7402   m   \n",
       "679328      1_408 2022-11-26 06:52:02.225335   s_302962    c_7402   m   \n",
       "679329      1_408 2021-09-26 06:52:02.225335    s_95708    c_7402   m   \n",
       "679330       2_81 2022-02-19 14:51:58.078656   s_167662    c_7616   m   \n",
       "679331       2_98 2021-03-08 21:10:32.250919     s_3637    c_5967   f   \n",
       "\n",
       "        birthday   price  category  \n",
       "0         1986.0    4.18       0.0  \n",
       "1         1986.0    4.18       0.0  \n",
       "2         1986.0    4.18       0.0  \n",
       "3         1968.0    4.18       0.0  \n",
       "4         1968.0    4.18       0.0  \n",
       "...          ...     ...       ...  \n",
       "679327    1945.0   35.24       1.0  \n",
       "679328    1945.0   35.24       1.0  \n",
       "679329    1945.0   35.24       1.0  \n",
       "679330    1993.0   86.99       2.0  \n",
       "679331    2003.0  149.74       2.0  \n",
       "\n",
       "[679111 rows x 8 columns]"
      ]
     },
     "execution_count": 162,
     "metadata": {},
     "output_type": "execute_result"
    }
   ],
   "source": [
    "df_transactions_customers_products"
   ]
  },
  {
   "cell_type": "markdown",
   "id": "96809d6b",
   "metadata": {},
   "source": [
    "## III- REPONSES AUX MAIL D' Antoine et Annabelle"
   ]
  },
  {
   "cell_type": "markdown",
   "id": "5c1fd4ec",
   "metadata": {},
   "source": [
    "## 1- Analysons les indicateurs autour du chiffre d'affaires"
   ]
  },
  {
   "cell_type": "markdown",
   "id": "0d31918f",
   "metadata": {},
   "source": [
    "### 1-a Indicateur et graphique autour du chiffre d'affaires"
   ]
  },
  {
   "cell_type": "code",
   "execution_count": 163,
   "id": "30be6948",
   "metadata": {},
   "outputs": [],
   "source": [
    "chiffre_affaires = round(df_transactions_customers_products['price'].sum(),2)"
   ]
  },
  {
   "cell_type": "code",
   "execution_count": 164,
   "id": "66d3796f",
   "metadata": {},
   "outputs": [
    {
     "data": {
      "text/plain": [
       "11853728.68"
      ]
     },
     "execution_count": 164,
     "metadata": {},
     "output_type": "execute_result"
    }
   ],
   "source": [
    "chiffre_affaires"
   ]
  },
  {
   "cell_type": "markdown",
   "id": "83bced89",
   "metadata": {},
   "source": [
    "### 1-b Boite à moustaches pour observer les valeus abérantes du chiffre d'affaires"
   ]
  },
  {
   "cell_type": "code",
   "execution_count": 165,
   "id": "755e0fe1",
   "metadata": {},
   "outputs": [
    {
     "data": {
      "image/png": "[encoded data removed]",
      "text/plain": [
       "<Figure size 640x480 with 1 Axes>"
      ]
     },
     "metadata": {},
     "output_type": "display_data"
    }
   ],
   "source": [
    "df_transactions_customers_products.boxplot(column='price', vert=False).set_title('prix de vente')\n",
    "plt.show()"
   ]
  },
  {
   "cell_type": "code",
   "execution_count": 166,
   "id": "d6dc749a",
   "metadata": {},
   "outputs": [],
   "source": [
    "# CA = Prix * Quantité de produit vendu\n",
    "  # Observons les valeurs aberantes de la vraibles price\n",
    "    \n",
    "\n",
    "# Fonction pour determiner les outliers\n",
    "# Valeur < Q1 - 1.5IQR ou Valeur > Q3 + 1.5IQR alors on a les outliers\n",
    "def finding_outliers(data, variable_name):\n",
    "    '''\n",
    "    data = data frame pandas\n",
    "    variable_name= nom de la variable (chaine de caractere)\n",
    "    '''\n",
    "    # Calcul de l'IQR Q1 et Q3\n",
    "    iqr = stats.iqr(data[variable_name])\n",
    "    q1 = data[variable_name].quantile(0.25)\n",
    "    q3 = data[variable_name].quantile(0.75)\n",
    "    # Calcul de limite de Q1 - 1.5IQR et Q3 + 1.5IQR\n",
    "    lower = q1 - 1.5 * iqr\n",
    "    upper = q3 + 1.5 * iqr\n",
    "    # Dataframe des valeurs aberantes \n",
    "    outliers_df = data[(data[variable_name]<lower) | (data[variable_name]>upper)]\n",
    "    return outliers_df"
   ]
  },
  {
   "cell_type": "code",
   "execution_count": 167,
   "id": "540575fe",
   "metadata": {},
   "outputs": [
    {
     "data": {
      "text/html": [
       "<div>\n",
       "<style scoped>\n",
       "    .dataframe tbody tr th:only-of-type {\n",
       "        vertical-align: middle;\n",
       "    }\n",
       "\n",
       "    .dataframe tbody tr th {\n",
       "        vertical-align: top;\n",
       "    }\n",
       "\n",
       "    .dataframe thead th {\n",
       "        text-align: right;\n",
       "    }\n",
       "</style>\n",
       "<table border=\"1\" class=\"dataframe\">\n",
       "  <thead>\n",
       "    <tr style=\"text-align: right;\">\n",
       "      <th></th>\n",
       "      <th>id_product</th>\n",
       "      <th>date</th>\n",
       "      <th>session_id</th>\n",
       "      <th>client_id</th>\n",
       "      <th>sex</th>\n",
       "      <th>birthday</th>\n",
       "      <th>price</th>\n",
       "      <th>category</th>\n",
       "    </tr>\n",
       "  </thead>\n",
       "  <tbody>\n",
       "    <tr>\n",
       "      <th>644933</th>\n",
       "      <td>1_306</td>\n",
       "      <td>2021-03-05 11:15:54.180721</td>\n",
       "      <td>s_2060</td>\n",
       "      <td>c_4198</td>\n",
       "      <td>m</td>\n",
       "      <td>1976.0</td>\n",
       "      <td>34.18</td>\n",
       "      <td>1.0</td>\n",
       "    </tr>\n",
       "    <tr>\n",
       "      <th>644918</th>\n",
       "      <td>1_306</td>\n",
       "      <td>2022-01-19 18:55:10.341281</td>\n",
       "      <td>s_152241</td>\n",
       "      <td>c_1609</td>\n",
       "      <td>m</td>\n",
       "      <td>1980.0</td>\n",
       "      <td>34.18</td>\n",
       "      <td>1.0</td>\n",
       "    </tr>\n",
       "    <tr>\n",
       "      <th>644920</th>\n",
       "      <td>1_306</td>\n",
       "      <td>2021-09-20 16:23:45.251232</td>\n",
       "      <td>s_92829</td>\n",
       "      <td>c_3030</td>\n",
       "      <td>m</td>\n",
       "      <td>1989.0</td>\n",
       "      <td>34.18</td>\n",
       "      <td>1.0</td>\n",
       "    </tr>\n",
       "    <tr>\n",
       "      <th>644921</th>\n",
       "      <td>1_306</td>\n",
       "      <td>2021-12-24 02:38:30.619934</td>\n",
       "      <td>s_139069</td>\n",
       "      <td>c_344</td>\n",
       "      <td>m</td>\n",
       "      <td>1965.0</td>\n",
       "      <td>34.18</td>\n",
       "      <td>1.0</td>\n",
       "    </tr>\n",
       "    <tr>\n",
       "      <th>644922</th>\n",
       "      <td>1_306</td>\n",
       "      <td>2022-06-07 16:04:40.987717</td>\n",
       "      <td>s_220257</td>\n",
       "      <td>c_3090</td>\n",
       "      <td>f</td>\n",
       "      <td>1974.0</td>\n",
       "      <td>34.18</td>\n",
       "      <td>1.0</td>\n",
       "    </tr>\n",
       "    <tr>\n",
       "      <th>...</th>\n",
       "      <td>...</td>\n",
       "      <td>...</td>\n",
       "      <td>...</td>\n",
       "      <td>...</td>\n",
       "      <td>...</td>\n",
       "      <td>...</td>\n",
       "      <td>...</td>\n",
       "      <td>...</td>\n",
       "    </tr>\n",
       "    <tr>\n",
       "      <th>620055</th>\n",
       "      <td>2_2</td>\n",
       "      <td>2022-11-28 21:24:28.442508</td>\n",
       "      <td>s_304241</td>\n",
       "      <td>c_659</td>\n",
       "      <td>f</td>\n",
       "      <td>2001.0</td>\n",
       "      <td>300.00</td>\n",
       "      <td>2.0</td>\n",
       "    </tr>\n",
       "    <tr>\n",
       "      <th>620061</th>\n",
       "      <td>2_2</td>\n",
       "      <td>2022-12-06 23:14:33.815188</td>\n",
       "      <td>s_308128</td>\n",
       "      <td>c_2467</td>\n",
       "      <td>f</td>\n",
       "      <td>1997.0</td>\n",
       "      <td>300.00</td>\n",
       "      <td>2.0</td>\n",
       "    </tr>\n",
       "    <tr>\n",
       "      <th>620060</th>\n",
       "      <td>2_2</td>\n",
       "      <td>2021-06-06 23:14:33.815188</td>\n",
       "      <td>s_45088</td>\n",
       "      <td>c_2467</td>\n",
       "      <td>f</td>\n",
       "      <td>1997.0</td>\n",
       "      <td>300.00</td>\n",
       "      <td>2.0</td>\n",
       "    </tr>\n",
       "    <tr>\n",
       "      <th>620058</th>\n",
       "      <td>2_2</td>\n",
       "      <td>2021-06-12 08:44:00.882917</td>\n",
       "      <td>s_47558</td>\n",
       "      <td>c_5237</td>\n",
       "      <td>m</td>\n",
       "      <td>1999.0</td>\n",
       "      <td>300.00</td>\n",
       "      <td>2.0</td>\n",
       "    </tr>\n",
       "    <tr>\n",
       "      <th>620053</th>\n",
       "      <td>2_2</td>\n",
       "      <td>2022-03-28 21:24:28.442508</td>\n",
       "      <td>s_185980</td>\n",
       "      <td>c_659</td>\n",
       "      <td>f</td>\n",
       "      <td>2001.0</td>\n",
       "      <td>300.00</td>\n",
       "      <td>2.0</td>\n",
       "    </tr>\n",
       "  </tbody>\n",
       "</table>\n",
       "<p>42606 rows × 8 columns</p>\n",
       "</div>"
      ],
      "text/plain": [
       "       id_product                       date session_id client_id sex  \\\n",
       "644933      1_306 2021-03-05 11:15:54.180721     s_2060    c_4198   m   \n",
       "644918      1_306 2022-01-19 18:55:10.341281   s_152241    c_1609   m   \n",
       "644920      1_306 2021-09-20 16:23:45.251232    s_92829    c_3030   m   \n",
       "644921      1_306 2021-12-24 02:38:30.619934   s_139069     c_344   m   \n",
       "644922      1_306 2022-06-07 16:04:40.987717   s_220257    c_3090   f   \n",
       "...           ...                        ...        ...       ...  ..   \n",
       "620055        2_2 2022-11-28 21:24:28.442508   s_304241     c_659   f   \n",
       "620061        2_2 2022-12-06 23:14:33.815188   s_308128    c_2467   f   \n",
       "620060        2_2 2021-06-06 23:14:33.815188    s_45088    c_2467   f   \n",
       "620058        2_2 2021-06-12 08:44:00.882917    s_47558    c_5237   m   \n",
       "620053        2_2 2022-03-28 21:24:28.442508   s_185980     c_659   f   \n",
       "\n",
       "        birthday   price  category  \n",
       "644933    1976.0   34.18       1.0  \n",
       "644918    1980.0   34.18       1.0  \n",
       "644920    1989.0   34.18       1.0  \n",
       "644921    1965.0   34.18       1.0  \n",
       "644922    1974.0   34.18       1.0  \n",
       "...          ...     ...       ...  \n",
       "620055    2001.0  300.00       2.0  \n",
       "620061    1997.0  300.00       2.0  \n",
       "620060    1997.0  300.00       2.0  \n",
       "620058    1999.0  300.00       2.0  \n",
       "620053    2001.0  300.00       2.0  \n",
       "\n",
       "[42606 rows x 8 columns]"
      ]
     },
     "execution_count": 167,
     "metadata": {},
     "output_type": "execute_result"
    }
   ],
   "source": [
    "# point de données aberants de la variable indiquant le price\n",
    "\n",
    "finding_outliers(data = df_transactions_customers_products, variable_name = 'price').sort_values(by=['price'])"
   ]
  },
  {
   "cell_type": "markdown",
   "id": "9388da03",
   "metadata": {},
   "source": [
    "### 1-c les parametres statistiques autour du chiffre d'affaires"
   ]
  },
  {
   "cell_type": "code",
   "execution_count": 168,
   "id": "bef36022",
   "metadata": {},
   "outputs": [
    {
     "data": {
      "text/plain": [
       "count    679111.000000\n",
       "mean         17.454773\n",
       "std          18.328998\n",
       "min           0.620000\n",
       "25%           8.870000\n",
       "50%          13.990000\n",
       "75%          18.990000\n",
       "max         300.000000\n",
       "Name: price, dtype: float64"
      ]
     },
     "execution_count": 168,
     "metadata": {},
     "output_type": "execute_result"
    }
   ],
   "source": [
    "# les parametres statistiques de la variable price\n",
    "\n",
    "df_transactions_customers_products.price.describe()\n",
    "\n",
    "# std 38.17 est l'ecart_type empirique"
   ]
  },
  {
   "cell_type": "code",
   "execution_count": 169,
   "id": "51e48955",
   "metadata": {},
   "outputs": [
    {
     "data": {
      "text/plain": [
       "13.99"
      ]
     },
     "execution_count": 169,
     "metadata": {},
     "output_type": "execute_result"
    }
   ],
   "source": [
    "df_transactions_customers_products['price'].median()"
   ]
  },
  {
   "cell_type": "code",
   "execution_count": 170,
   "id": "1504c39e",
   "metadata": {},
   "outputs": [
    {
     "data": {
      "text/plain": [
       "0    15.99\n",
       "Name: price, dtype: float64"
      ]
     },
     "execution_count": 170,
     "metadata": {},
     "output_type": "execute_result"
    }
   ],
   "source": [
    "df_transactions_customers_products['price'].mode()"
   ]
  },
  {
   "cell_type": "code",
   "execution_count": 171,
   "id": "c43f2602",
   "metadata": {},
   "outputs": [
    {
     "data": {
      "text/plain": [
       "335.9521496858729"
      ]
     },
     "execution_count": 171,
     "metadata": {},
     "output_type": "execute_result"
    }
   ],
   "source": [
    "df_transactions_customers_products['price'].var()"
   ]
  },
  {
   "cell_type": "code",
   "execution_count": 172,
   "id": "08c26ed1",
   "metadata": {},
   "outputs": [
    {
     "data": {
      "text/plain": [
       "335.95165499185424"
      ]
     },
     "execution_count": 172,
     "metadata": {},
     "output_type": "execute_result"
    }
   ],
   "source": [
    "df_transactions_customers_products['price'].var(ddof=0)\n",
    "\n",
    "# la variance empirique corrigée"
   ]
  },
  {
   "cell_type": "code",
   "execution_count": 173,
   "id": "a7c072d0",
   "metadata": {},
   "outputs": [
    {
     "data": {
      "text/plain": [
       "1.0500850967081807"
      ]
     },
     "execution_count": 173,
     "metadata": {},
     "output_type": "execute_result"
    }
   ],
   "source": [
    "df_transactions_customers_products['price'].std()/df_transactions_customers_products['price'].mean()\n",
    "\n",
    "# le coefficient de variation"
   ]
  },
  {
   "cell_type": "code",
   "execution_count": 174,
   "id": "87166802",
   "metadata": {},
   "outputs": [
    {
     "data": {
      "text/plain": [
       "5.39035882716777"
      ]
     },
     "execution_count": 174,
     "metadata": {},
     "output_type": "execute_result"
    }
   ],
   "source": [
    "df_transactions_customers_products['price'].skew()"
   ]
  },
  {
   "cell_type": "markdown",
   "id": "82847181",
   "metadata": {},
   "source": [
    "Le skewness est une mesure d'asymétrie. L’asymétrie d’une distribution traduit la régularité (ou non) avec laquelle les observations se répartissent autour de la valeur centrale. On interprète cette mesure de cette manière :\n",
    "- Si γ1 = 0 alors la distribution est symétrique.\n",
    "- Si γ1 > 0 alors la distribution est étalée à droite.\n",
    "- Si γ1 < 0 alors la distribution est étalée à gauche."
   ]
  },
  {
   "cell_type": "code",
   "execution_count": 175,
   "id": "6ced62a1",
   "metadata": {},
   "outputs": [
    {
     "data": {
      "text/plain": [
       "43.06872482413128"
      ]
     },
     "execution_count": 175,
     "metadata": {},
     "output_type": "execute_result"
    }
   ],
   "source": [
    "df_transactions_customers_products['price'].kurtosis()"
   ]
  },
  {
   "cell_type": "markdown",
   "id": "c5c0125f",
   "metadata": {},
   "source": [
    "Le kurtosis empirique n'est pas une mesure d'asymétrie, mais c'est une mesure d'aplatissement. L’aplatissement peut s’interpréter à la condition que la distribution soit symétrique. En fait, on compare l'aplatissement par rapport à la distribution la plus célèbre, appelée distribution normale (parfois \"courbe de Gauss\" ou \"Gaussienne\")\n",
    "- Si γ2 = 0, alors la distribution a le même aplatissement que la distribution normale.\n",
    "- Si γ2 > 0, alors elle est moins aplatie que la distribution normale : les observations sont plus concentrées.\n",
    "- Si γ2 < 0, alors les observations sont moins concentrées : la distribution est plus aplatie."
   ]
  },
  {
   "cell_type": "markdown",
   "id": "5e6a2ff2",
   "metadata": {},
   "source": [
    "## 2- Peux-tu également regarder l’évolution dans le temps et mettre en place une décomposition en moyenne mobile pour évaluer la tendance globale ?"
   ]
  },
  {
   "cell_type": "markdown",
   "id": "3e433608",
   "metadata": {},
   "source": [
    "### 2-a Utilisation de methodes, .sort_values(), .apply() pour definir un nouveau format de date adapter "
   ]
  },
  {
   "cell_type": "code",
   "execution_count": 176,
   "id": "b4ac35cd",
   "metadata": {},
   "outputs": [
    {
     "data": {
      "text/html": [
       "<div>\n",
       "<style scoped>\n",
       "    .dataframe tbody tr th:only-of-type {\n",
       "        vertical-align: middle;\n",
       "    }\n",
       "\n",
       "    .dataframe tbody tr th {\n",
       "        vertical-align: top;\n",
       "    }\n",
       "\n",
       "    .dataframe thead th {\n",
       "        text-align: right;\n",
       "    }\n",
       "</style>\n",
       "<table border=\"1\" class=\"dataframe\">\n",
       "  <thead>\n",
       "    <tr style=\"text-align: right;\">\n",
       "      <th></th>\n",
       "      <th>id_product</th>\n",
       "      <th>date</th>\n",
       "      <th>session_id</th>\n",
       "      <th>client_id</th>\n",
       "      <th>sex</th>\n",
       "      <th>birthday</th>\n",
       "      <th>price</th>\n",
       "      <th>category</th>\n",
       "    </tr>\n",
       "  </thead>\n",
       "  <tbody>\n",
       "    <tr>\n",
       "      <th>191139</th>\n",
       "      <td>0_1259</td>\n",
       "      <td>2021-03-01 00:01:07.843138</td>\n",
       "      <td>s_1</td>\n",
       "      <td>c_329</td>\n",
       "      <td>f</td>\n",
       "      <td>1967.0</td>\n",
       "      <td>11.99</td>\n",
       "      <td>0.0</td>\n",
       "    </tr>\n",
       "    <tr>\n",
       "      <th>2269</th>\n",
       "      <td>0_1390</td>\n",
       "      <td>2021-03-01 00:02:26.047414</td>\n",
       "      <td>s_2</td>\n",
       "      <td>c_664</td>\n",
       "      <td>m</td>\n",
       "      <td>1960.0</td>\n",
       "      <td>19.37</td>\n",
       "      <td>0.0</td>\n",
       "    </tr>\n",
       "    <tr>\n",
       "      <th>441509</th>\n",
       "      <td>0_1352</td>\n",
       "      <td>2021-03-01 00:02:38.311413</td>\n",
       "      <td>s_3</td>\n",
       "      <td>c_580</td>\n",
       "      <td>m</td>\n",
       "      <td>1988.0</td>\n",
       "      <td>4.50</td>\n",
       "      <td>0.0</td>\n",
       "    </tr>\n",
       "    <tr>\n",
       "      <th>446670</th>\n",
       "      <td>0_1458</td>\n",
       "      <td>2021-03-01 00:04:54.559692</td>\n",
       "      <td>s_4</td>\n",
       "      <td>c_7912</td>\n",
       "      <td>f</td>\n",
       "      <td>1989.0</td>\n",
       "      <td>6.55</td>\n",
       "      <td>0.0</td>\n",
       "    </tr>\n",
       "    <tr>\n",
       "      <th>67108</th>\n",
       "      <td>0_1358</td>\n",
       "      <td>2021-03-01 00:05:18.801198</td>\n",
       "      <td>s_5</td>\n",
       "      <td>c_2033</td>\n",
       "      <td>f</td>\n",
       "      <td>1956.0</td>\n",
       "      <td>16.49</td>\n",
       "      <td>0.0</td>\n",
       "    </tr>\n",
       "    <tr>\n",
       "      <th>...</th>\n",
       "      <td>...</td>\n",
       "      <td>...</td>\n",
       "      <td>...</td>\n",
       "      <td>...</td>\n",
       "      <td>...</td>\n",
       "      <td>...</td>\n",
       "      <td>...</td>\n",
       "      <td>...</td>\n",
       "    </tr>\n",
       "    <tr>\n",
       "      <th>510204</th>\n",
       "      <td>1_508</td>\n",
       "      <td>2023-02-28 23:49:03.148402</td>\n",
       "      <td>s_348444</td>\n",
       "      <td>c_3573</td>\n",
       "      <td>f</td>\n",
       "      <td>1996.0</td>\n",
       "      <td>21.92</td>\n",
       "      <td>1.0</td>\n",
       "    </tr>\n",
       "    <tr>\n",
       "      <th>271337</th>\n",
       "      <td>2_37</td>\n",
       "      <td>2023-02-28 23:51:29.318531</td>\n",
       "      <td>s_348445</td>\n",
       "      <td>c_50</td>\n",
       "      <td>f</td>\n",
       "      <td>1994.0</td>\n",
       "      <td>48.99</td>\n",
       "      <td>2.0</td>\n",
       "    </tr>\n",
       "    <tr>\n",
       "      <th>225071</th>\n",
       "      <td>1_695</td>\n",
       "      <td>2023-02-28 23:53:18.929676</td>\n",
       "      <td>s_348446</td>\n",
       "      <td>c_488</td>\n",
       "      <td>f</td>\n",
       "      <td>1985.0</td>\n",
       "      <td>26.99</td>\n",
       "      <td>1.0</td>\n",
       "    </tr>\n",
       "    <tr>\n",
       "      <th>3230</th>\n",
       "      <td>0_1547</td>\n",
       "      <td>2023-02-28 23:58:00.107815</td>\n",
       "      <td>s_348447</td>\n",
       "      <td>c_4848</td>\n",
       "      <td>m</td>\n",
       "      <td>1953.0</td>\n",
       "      <td>8.99</td>\n",
       "      <td>0.0</td>\n",
       "    </tr>\n",
       "    <tr>\n",
       "      <th>356690</th>\n",
       "      <td>0_1398</td>\n",
       "      <td>2023-02-28 23:58:30.792755</td>\n",
       "      <td>s_348435</td>\n",
       "      <td>c_3575</td>\n",
       "      <td>f</td>\n",
       "      <td>1981.0</td>\n",
       "      <td>4.52</td>\n",
       "      <td>0.0</td>\n",
       "    </tr>\n",
       "  </tbody>\n",
       "</table>\n",
       "<p>679111 rows × 8 columns</p>\n",
       "</div>"
      ],
      "text/plain": [
       "       id_product                       date session_id client_id sex  \\\n",
       "191139     0_1259 2021-03-01 00:01:07.843138        s_1     c_329   f   \n",
       "2269       0_1390 2021-03-01 00:02:26.047414        s_2     c_664   m   \n",
       "441509     0_1352 2021-03-01 00:02:38.311413        s_3     c_580   m   \n",
       "446670     0_1458 2021-03-01 00:04:54.559692        s_4    c_7912   f   \n",
       "67108      0_1358 2021-03-01 00:05:18.801198        s_5    c_2033   f   \n",
       "...           ...                        ...        ...       ...  ..   \n",
       "510204      1_508 2023-02-28 23:49:03.148402   s_348444    c_3573   f   \n",
       "271337       2_37 2023-02-28 23:51:29.318531   s_348445      c_50   f   \n",
       "225071      1_695 2023-02-28 23:53:18.929676   s_348446     c_488   f   \n",
       "3230       0_1547 2023-02-28 23:58:00.107815   s_348447    c_4848   m   \n",
       "356690     0_1398 2023-02-28 23:58:30.792755   s_348435    c_3575   f   \n",
       "\n",
       "        birthday  price  category  \n",
       "191139    1967.0  11.99       0.0  \n",
       "2269      1960.0  19.37       0.0  \n",
       "441509    1988.0   4.50       0.0  \n",
       "446670    1989.0   6.55       0.0  \n",
       "67108     1956.0  16.49       0.0  \n",
       "...          ...    ...       ...  \n",
       "510204    1996.0  21.92       1.0  \n",
       "271337    1994.0  48.99       2.0  \n",
       "225071    1985.0  26.99       1.0  \n",
       "3230      1953.0   8.99       0.0  \n",
       "356690    1981.0   4.52       0.0  \n",
       "\n",
       "[679111 rows x 8 columns]"
      ]
     },
     "execution_count": 176,
     "metadata": {},
     "output_type": "execute_result"
    }
   ],
   "source": [
    " df_transactions_customers_products.sort_values(by=['date'])"
   ]
  },
  {
   "cell_type": "code",
   "execution_count": 177,
   "id": "d4eb0de3",
   "metadata": {},
   "outputs": [],
   "source": [
    "df_transactions_customers_products['date_'] =  df_transactions_customers_products['date'].apply(lambda x : x.strftime('%Y-%m-%d'))"
   ]
  },
  {
   "cell_type": "code",
   "execution_count": 178,
   "id": "2060fab3",
   "metadata": {},
   "outputs": [
    {
     "data": {
      "text/html": [
       "<div>\n",
       "<style scoped>\n",
       "    .dataframe tbody tr th:only-of-type {\n",
       "        vertical-align: middle;\n",
       "    }\n",
       "\n",
       "    .dataframe tbody tr th {\n",
       "        vertical-align: top;\n",
       "    }\n",
       "\n",
       "    .dataframe thead th {\n",
       "        text-align: right;\n",
       "    }\n",
       "</style>\n",
       "<table border=\"1\" class=\"dataframe\">\n",
       "  <thead>\n",
       "    <tr style=\"text-align: right;\">\n",
       "      <th></th>\n",
       "      <th>id_product</th>\n",
       "      <th>date</th>\n",
       "      <th>session_id</th>\n",
       "      <th>client_id</th>\n",
       "      <th>sex</th>\n",
       "      <th>birthday</th>\n",
       "      <th>price</th>\n",
       "      <th>category</th>\n",
       "      <th>date_</th>\n",
       "    </tr>\n",
       "  </thead>\n",
       "  <tbody>\n",
       "    <tr>\n",
       "      <th>0</th>\n",
       "      <td>0_1518</td>\n",
       "      <td>2022-05-20 13:21:29.043970</td>\n",
       "      <td>s_211425</td>\n",
       "      <td>c_103</td>\n",
       "      <td>f</td>\n",
       "      <td>1986.0</td>\n",
       "      <td>4.18</td>\n",
       "      <td>0.0</td>\n",
       "      <td>2022-05-20</td>\n",
       "    </tr>\n",
       "    <tr>\n",
       "      <th>1</th>\n",
       "      <td>0_1518</td>\n",
       "      <td>2021-07-20 13:21:29.043970</td>\n",
       "      <td>s_64849</td>\n",
       "      <td>c_103</td>\n",
       "      <td>f</td>\n",
       "      <td>1986.0</td>\n",
       "      <td>4.18</td>\n",
       "      <td>0.0</td>\n",
       "      <td>2021-07-20</td>\n",
       "    </tr>\n",
       "    <tr>\n",
       "      <th>2</th>\n",
       "      <td>0_1518</td>\n",
       "      <td>2022-08-20 13:21:29.043970</td>\n",
       "      <td>s_255965</td>\n",
       "      <td>c_103</td>\n",
       "      <td>f</td>\n",
       "      <td>1986.0</td>\n",
       "      <td>4.18</td>\n",
       "      <td>0.0</td>\n",
       "      <td>2022-08-20</td>\n",
       "    </tr>\n",
       "    <tr>\n",
       "      <th>3</th>\n",
       "      <td>0_1518</td>\n",
       "      <td>2021-05-09 11:52:55.100386</td>\n",
       "      <td>s_32104</td>\n",
       "      <td>c_6714</td>\n",
       "      <td>f</td>\n",
       "      <td>1968.0</td>\n",
       "      <td>4.18</td>\n",
       "      <td>0.0</td>\n",
       "      <td>2021-05-09</td>\n",
       "    </tr>\n",
       "    <tr>\n",
       "      <th>4</th>\n",
       "      <td>0_1518</td>\n",
       "      <td>2022-05-30 01:17:07.487046</td>\n",
       "      <td>s_216118</td>\n",
       "      <td>c_6714</td>\n",
       "      <td>f</td>\n",
       "      <td>1968.0</td>\n",
       "      <td>4.18</td>\n",
       "      <td>0.0</td>\n",
       "      <td>2022-05-30</td>\n",
       "    </tr>\n",
       "    <tr>\n",
       "      <th>...</th>\n",
       "      <td>...</td>\n",
       "      <td>...</td>\n",
       "      <td>...</td>\n",
       "      <td>...</td>\n",
       "      <td>...</td>\n",
       "      <td>...</td>\n",
       "      <td>...</td>\n",
       "      <td>...</td>\n",
       "      <td>...</td>\n",
       "    </tr>\n",
       "    <tr>\n",
       "      <th>679327</th>\n",
       "      <td>1_408</td>\n",
       "      <td>2023-01-26 06:52:02.225335</td>\n",
       "      <td>s_332548</td>\n",
       "      <td>c_7402</td>\n",
       "      <td>m</td>\n",
       "      <td>1945.0</td>\n",
       "      <td>35.24</td>\n",
       "      <td>1.0</td>\n",
       "      <td>2023-01-26</td>\n",
       "    </tr>\n",
       "    <tr>\n",
       "      <th>679328</th>\n",
       "      <td>1_408</td>\n",
       "      <td>2022-11-26 06:52:02.225335</td>\n",
       "      <td>s_302962</td>\n",
       "      <td>c_7402</td>\n",
       "      <td>m</td>\n",
       "      <td>1945.0</td>\n",
       "      <td>35.24</td>\n",
       "      <td>1.0</td>\n",
       "      <td>2022-11-26</td>\n",
       "    </tr>\n",
       "    <tr>\n",
       "      <th>679329</th>\n",
       "      <td>1_408</td>\n",
       "      <td>2021-09-26 06:52:02.225335</td>\n",
       "      <td>s_95708</td>\n",
       "      <td>c_7402</td>\n",
       "      <td>m</td>\n",
       "      <td>1945.0</td>\n",
       "      <td>35.24</td>\n",
       "      <td>1.0</td>\n",
       "      <td>2021-09-26</td>\n",
       "    </tr>\n",
       "    <tr>\n",
       "      <th>679330</th>\n",
       "      <td>2_81</td>\n",
       "      <td>2022-02-19 14:51:58.078656</td>\n",
       "      <td>s_167662</td>\n",
       "      <td>c_7616</td>\n",
       "      <td>m</td>\n",
       "      <td>1993.0</td>\n",
       "      <td>86.99</td>\n",
       "      <td>2.0</td>\n",
       "      <td>2022-02-19</td>\n",
       "    </tr>\n",
       "    <tr>\n",
       "      <th>679331</th>\n",
       "      <td>2_98</td>\n",
       "      <td>2021-03-08 21:10:32.250919</td>\n",
       "      <td>s_3637</td>\n",
       "      <td>c_5967</td>\n",
       "      <td>f</td>\n",
       "      <td>2003.0</td>\n",
       "      <td>149.74</td>\n",
       "      <td>2.0</td>\n",
       "      <td>2021-03-08</td>\n",
       "    </tr>\n",
       "  </tbody>\n",
       "</table>\n",
       "<p>679111 rows × 9 columns</p>\n",
       "</div>"
      ],
      "text/plain": [
       "       id_product                       date session_id client_id sex  \\\n",
       "0          0_1518 2022-05-20 13:21:29.043970   s_211425     c_103   f   \n",
       "1          0_1518 2021-07-20 13:21:29.043970    s_64849     c_103   f   \n",
       "2          0_1518 2022-08-20 13:21:29.043970   s_255965     c_103   f   \n",
       "3          0_1518 2021-05-09 11:52:55.100386    s_32104    c_6714   f   \n",
       "4          0_1518 2022-05-30 01:17:07.487046   s_216118    c_6714   f   \n",
       "...           ...                        ...        ...       ...  ..   \n",
       "679327      1_408 2023-01-26 06:52:02.225335   s_332548    c_7402   m   \n",
       "679328      1_408 2022-11-26 06:52:02.225335   s_302962    c_7402   m   \n",
       "679329      1_408 2021-09-26 06:52:02.225335    s_95708    c_7402   m   \n",
       "679330       2_81 2022-02-19 14:51:58.078656   s_167662    c_7616   m   \n",
       "679331       2_98 2021-03-08 21:10:32.250919     s_3637    c_5967   f   \n",
       "\n",
       "        birthday   price  category       date_  \n",
       "0         1986.0    4.18       0.0  2022-05-20  \n",
       "1         1986.0    4.18       0.0  2021-07-20  \n",
       "2         1986.0    4.18       0.0  2022-08-20  \n",
       "3         1968.0    4.18       0.0  2021-05-09  \n",
       "4         1968.0    4.18       0.0  2022-05-30  \n",
       "...          ...     ...       ...         ...  \n",
       "679327    1945.0   35.24       1.0  2023-01-26  \n",
       "679328    1945.0   35.24       1.0  2022-11-26  \n",
       "679329    1945.0   35.24       1.0  2021-09-26  \n",
       "679330    1993.0   86.99       2.0  2022-02-19  \n",
       "679331    2003.0  149.74       2.0  2021-03-08  \n",
       "\n",
       "[679111 rows x 9 columns]"
      ]
     },
     "execution_count": 178,
     "metadata": {},
     "output_type": "execute_result"
    }
   ],
   "source": [
    "df_transactions_customers_products"
   ]
  },
  {
   "cell_type": "markdown",
   "id": "39eacb88",
   "metadata": {},
   "source": [
    "### 2-b Courbe d'evolution du chiffre d'affaires journalier"
   ]
  },
  {
   "cell_type": "code",
   "execution_count": 179,
   "id": "428fd03c",
   "metadata": {},
   "outputs": [],
   "source": [
    "CA_journalier = df_transactions_customers_products[['price', 'date_']].groupby('date_').sum()"
   ]
  },
  {
   "cell_type": "code",
   "execution_count": 180,
   "id": "ccf7d7a7",
   "metadata": {},
   "outputs": [
    {
     "data": {
      "text/html": [
       "<div>\n",
       "<style scoped>\n",
       "    .dataframe tbody tr th:only-of-type {\n",
       "        vertical-align: middle;\n",
       "    }\n",
       "\n",
       "    .dataframe tbody tr th {\n",
       "        vertical-align: top;\n",
       "    }\n",
       "\n",
       "    .dataframe thead th {\n",
       "        text-align: right;\n",
       "    }\n",
       "</style>\n",
       "<table border=\"1\" class=\"dataframe\">\n",
       "  <thead>\n",
       "    <tr style=\"text-align: right;\">\n",
       "      <th></th>\n",
       "      <th>price</th>\n",
       "    </tr>\n",
       "    <tr>\n",
       "      <th>date_</th>\n",
       "      <th></th>\n",
       "    </tr>\n",
       "  </thead>\n",
       "  <tbody>\n",
       "    <tr>\n",
       "      <th>2021-03-01</th>\n",
       "      <td>16565.22</td>\n",
       "    </tr>\n",
       "    <tr>\n",
       "      <th>2021-03-02</th>\n",
       "      <td>15486.45</td>\n",
       "    </tr>\n",
       "    <tr>\n",
       "      <th>2021-03-03</th>\n",
       "      <td>15198.69</td>\n",
       "    </tr>\n",
       "    <tr>\n",
       "      <th>2021-03-04</th>\n",
       "      <td>15196.07</td>\n",
       "    </tr>\n",
       "    <tr>\n",
       "      <th>2021-03-05</th>\n",
       "      <td>17471.37</td>\n",
       "    </tr>\n",
       "    <tr>\n",
       "      <th>...</th>\n",
       "      <td>...</td>\n",
       "    </tr>\n",
       "    <tr>\n",
       "      <th>2023-02-24</th>\n",
       "      <td>15207.89</td>\n",
       "    </tr>\n",
       "    <tr>\n",
       "      <th>2023-02-25</th>\n",
       "      <td>15761.25</td>\n",
       "    </tr>\n",
       "    <tr>\n",
       "      <th>2023-02-26</th>\n",
       "      <td>16304.72</td>\n",
       "    </tr>\n",
       "    <tr>\n",
       "      <th>2023-02-27</th>\n",
       "      <td>19170.81</td>\n",
       "    </tr>\n",
       "    <tr>\n",
       "      <th>2023-02-28</th>\n",
       "      <td>18105.15</td>\n",
       "    </tr>\n",
       "  </tbody>\n",
       "</table>\n",
       "<p>730 rows × 1 columns</p>\n",
       "</div>"
      ],
      "text/plain": [
       "               price\n",
       "date_               \n",
       "2021-03-01  16565.22\n",
       "2021-03-02  15486.45\n",
       "2021-03-03  15198.69\n",
       "2021-03-04  15196.07\n",
       "2021-03-05  17471.37\n",
       "...              ...\n",
       "2023-02-24  15207.89\n",
       "2023-02-25  15761.25\n",
       "2023-02-26  16304.72\n",
       "2023-02-27  19170.81\n",
       "2023-02-28  18105.15\n",
       "\n",
       "[730 rows x 1 columns]"
      ]
     },
     "execution_count": 180,
     "metadata": {},
     "output_type": "execute_result"
    }
   ],
   "source": [
    "CA_journalier"
   ]
  },
  {
   "cell_type": "code",
   "execution_count": 181,
   "id": "2e232bdb",
   "metadata": {},
   "outputs": [
    {
     "data": {
      "text/plain": [
       "<Figure size 1200x500 with 0 Axes>"
      ]
     },
     "metadata": {},
     "output_type": "display_data"
    },
    {
     "data": {
      "image/png": "[encoded data removed]",
      "text/plain": [
       "<Figure size 640x480 with 1 Axes>"
      ]
     },
     "metadata": {},
     "output_type": "display_data"
    }
   ],
   "source": [
    "plt.figure(figsize = (12,5))\n",
    "\n",
    "CA_journalier.plot()\n",
    "plt.show()"
   ]
  },
  {
   "cell_type": "code",
   "execution_count": 182,
   "id": "36e529fc",
   "metadata": {},
   "outputs": [],
   "source": [
    "# Moyennes mobiles sur 2 mpois    \n",
    "    # MA = moving average = moyenne mobile   \n",
    "\n",
    "# Moyennes mobiles sur 2 mpois\n",
    "\n",
    "CA_journalier['MA 60'] = CA_journalier['price'].rolling(60).mean()   "
   ]
  },
  {
   "cell_type": "code",
   "execution_count": 183,
   "id": "f880ccaf",
   "metadata": {},
   "outputs": [
    {
     "data": {
      "image/png": "[encoded data removed]",
      "text/plain": [
       "<Figure size 1200x500 with 1 Axes>"
      ]
     },
     "metadata": {},
     "output_type": "display_data"
    }
   ],
   "source": [
    "# Visualisation de la serie temporelle crée\n",
    "    # Variable qu'on veut representer(MA 60)    \n",
    "    \n",
    "vars = ['price', 'MA 60']\n",
    "\n",
    "# Graphique\n",
    "\n",
    "CA_journalier[vars].plot(figsize = (12, 5))\n",
    "plt.show()"
   ]
  },
  {
   "cell_type": "markdown",
   "id": "2a4ec92d",
   "metadata": {},
   "source": [
    "En analysant l'évolution dans le temps de nos données, nous avons remarqué une baisse considérable sur la période d'Octobre 2021. ce qui nous a amené à mettre en place une décomposition en moyenne mobile avec Python pour évaluer la tendance globale. La décomposition a montré que la tendance à long terme était constante. En utilisant cette analyse, nous allons continuer à surveiller ces données pour déterminer si cette une chute soudaine qui a eu lieu en Octobre 2021 peut être expliquée."
   ]
  },
  {
   "cell_type": "markdown",
   "id": "baea59c3",
   "metadata": {},
   "source": [
    "### 2-c Determinons les courbes d'evolutions par catégorie pour expliquer la baisse du chiffre d'affaires"
   ]
  },
  {
   "cell_type": "code",
   "execution_count": 184,
   "id": "2d63fdd0",
   "metadata": {},
   "outputs": [],
   "source": [
    "courbe_evolution_categorie = df_transactions_customers_products[['price', 'date_',\n",
    "                                                                 'category']].groupby(['date_','category']).sum()\n",
    "\n",
    "# Ici nous avons calculé la somme de commande par catégorie"
   ]
  },
  {
   "cell_type": "code",
   "execution_count": 185,
   "id": "dec327b4",
   "metadata": {},
   "outputs": [],
   "source": [
    "courbe_evolution_categorie = courbe_evolution_categorie.reset_index().pivot_table(index = 'date_',\n",
    "                                                                                  values ='price', columns = 'category')"
   ]
  },
  {
   "cell_type": "code",
   "execution_count": 186,
   "id": "4584df3a",
   "metadata": {},
   "outputs": [
    {
     "data": {
      "text/html": [
       "<div>\n",
       "<style scoped>\n",
       "    .dataframe tbody tr th:only-of-type {\n",
       "        vertical-align: middle;\n",
       "    }\n",
       "\n",
       "    .dataframe tbody tr th {\n",
       "        vertical-align: top;\n",
       "    }\n",
       "\n",
       "    .dataframe thead th {\n",
       "        text-align: right;\n",
       "    }\n",
       "</style>\n",
       "<table border=\"1\" class=\"dataframe\">\n",
       "  <thead>\n",
       "    <tr style=\"text-align: right;\">\n",
       "      <th>category</th>\n",
       "      <th>0.0</th>\n",
       "      <th>1.0</th>\n",
       "      <th>2.0</th>\n",
       "    </tr>\n",
       "    <tr>\n",
       "      <th>date_</th>\n",
       "      <th></th>\n",
       "      <th></th>\n",
       "      <th></th>\n",
       "    </tr>\n",
       "  </thead>\n",
       "  <tbody>\n",
       "    <tr>\n",
       "      <th>2021-03-01</th>\n",
       "      <td>6262.65</td>\n",
       "      <td>6811.53</td>\n",
       "      <td>3491.04</td>\n",
       "    </tr>\n",
       "    <tr>\n",
       "      <th>2021-03-02</th>\n",
       "      <td>6718.27</td>\n",
       "      <td>5627.15</td>\n",
       "      <td>3141.03</td>\n",
       "    </tr>\n",
       "    <tr>\n",
       "      <th>2021-03-03</th>\n",
       "      <td>6121.03</td>\n",
       "      <td>5691.41</td>\n",
       "      <td>3386.25</td>\n",
       "    </tr>\n",
       "    <tr>\n",
       "      <th>2021-03-04</th>\n",
       "      <td>5891.48</td>\n",
       "      <td>6098.98</td>\n",
       "      <td>3205.61</td>\n",
       "    </tr>\n",
       "    <tr>\n",
       "      <th>2021-03-05</th>\n",
       "      <td>5975.97</td>\n",
       "      <td>7071.21</td>\n",
       "      <td>4424.19</td>\n",
       "    </tr>\n",
       "    <tr>\n",
       "      <th>...</th>\n",
       "      <td>...</td>\n",
       "      <td>...</td>\n",
       "      <td>...</td>\n",
       "    </tr>\n",
       "    <tr>\n",
       "      <th>2023-02-24</th>\n",
       "      <td>6197.92</td>\n",
       "      <td>5471.07</td>\n",
       "      <td>3538.90</td>\n",
       "    </tr>\n",
       "    <tr>\n",
       "      <th>2023-02-25</th>\n",
       "      <td>4942.69</td>\n",
       "      <td>8050.61</td>\n",
       "      <td>2767.95</td>\n",
       "    </tr>\n",
       "    <tr>\n",
       "      <th>2023-02-26</th>\n",
       "      <td>5522.90</td>\n",
       "      <td>7009.09</td>\n",
       "      <td>3772.73</td>\n",
       "    </tr>\n",
       "    <tr>\n",
       "      <th>2023-02-27</th>\n",
       "      <td>7437.43</td>\n",
       "      <td>6461.76</td>\n",
       "      <td>5271.62</td>\n",
       "    </tr>\n",
       "    <tr>\n",
       "      <th>2023-02-28</th>\n",
       "      <td>4901.86</td>\n",
       "      <td>9226.25</td>\n",
       "      <td>3977.04</td>\n",
       "    </tr>\n",
       "  </tbody>\n",
       "</table>\n",
       "<p>730 rows × 3 columns</p>\n",
       "</div>"
      ],
      "text/plain": [
       "category        0.0      1.0      2.0\n",
       "date_                                \n",
       "2021-03-01  6262.65  6811.53  3491.04\n",
       "2021-03-02  6718.27  5627.15  3141.03\n",
       "2021-03-03  6121.03  5691.41  3386.25\n",
       "2021-03-04  5891.48  6098.98  3205.61\n",
       "2021-03-05  5975.97  7071.21  4424.19\n",
       "...             ...      ...      ...\n",
       "2023-02-24  6197.92  5471.07  3538.90\n",
       "2023-02-25  4942.69  8050.61  2767.95\n",
       "2023-02-26  5522.90  7009.09  3772.73\n",
       "2023-02-27  7437.43  6461.76  5271.62\n",
       "2023-02-28  4901.86  9226.25  3977.04\n",
       "\n",
       "[730 rows x 3 columns]"
      ]
     },
     "execution_count": 186,
     "metadata": {},
     "output_type": "execute_result"
    }
   ],
   "source": [
    "courbe_evolution_categorie"
   ]
  },
  {
   "cell_type": "code",
   "execution_count": 187,
   "id": "42132e60",
   "metadata": {},
   "outputs": [
    {
     "data": {
      "text/plain": [
       "<Figure size 1200x800 with 0 Axes>"
      ]
     },
     "metadata": {},
     "output_type": "display_data"
    },
    {
     "data": {
      "image/png": "[encoded data removed]",
      "text/plain": [
       "<Figure size 640x480 with 1 Axes>"
      ]
     },
     "metadata": {},
     "output_type": "display_data"
    }
   ],
   "source": [
    "plt.figure(figsize = (12,8))\n",
    "\n",
    "courbe_evolution_categorie.plot()\n",
    "plt.show()"
   ]
  },
  {
   "cell_type": "code",
   "execution_count": 188,
   "id": "401011aa",
   "metadata": {},
   "outputs": [],
   "source": [
    "courbe_evolution_categorie = df_transactions_customers_products[['price',\n",
    "                                                                 'date_', 'category']].groupby(['date_','category']).count()\n",
    "\n",
    "# Ici nous avons compté le nombre de commande par catégorie"
   ]
  },
  {
   "cell_type": "code",
   "execution_count": 189,
   "id": "6a0445e0",
   "metadata": {},
   "outputs": [],
   "source": [
    "courbe_evolution_categorie = courbe_evolution_categorie.reset_index().pivot_table(index = 'date_',\n",
    "                                                                                  values ='price', columns = 'category')"
   ]
  },
  {
   "cell_type": "code",
   "execution_count": 190,
   "id": "87c70a33",
   "metadata": {},
   "outputs": [
    {
     "data": {
      "text/html": [
       "<div>\n",
       "<style scoped>\n",
       "    .dataframe tbody tr th:only-of-type {\n",
       "        vertical-align: middle;\n",
       "    }\n",
       "\n",
       "    .dataframe tbody tr th {\n",
       "        vertical-align: top;\n",
       "    }\n",
       "\n",
       "    .dataframe thead th {\n",
       "        text-align: right;\n",
       "    }\n",
       "</style>\n",
       "<table border=\"1\" class=\"dataframe\">\n",
       "  <thead>\n",
       "    <tr style=\"text-align: right;\">\n",
       "      <th>category</th>\n",
       "      <th>0.0</th>\n",
       "      <th>1.0</th>\n",
       "      <th>2.0</th>\n",
       "    </tr>\n",
       "    <tr>\n",
       "      <th>date_</th>\n",
       "      <th></th>\n",
       "      <th></th>\n",
       "      <th></th>\n",
       "    </tr>\n",
       "  </thead>\n",
       "  <tbody>\n",
       "    <tr>\n",
       "      <th>2021-03-01</th>\n",
       "      <td>581.0</td>\n",
       "      <td>335.0</td>\n",
       "      <td>46.0</td>\n",
       "    </tr>\n",
       "    <tr>\n",
       "      <th>2021-03-02</th>\n",
       "      <td>620.0</td>\n",
       "      <td>276.0</td>\n",
       "      <td>43.0</td>\n",
       "    </tr>\n",
       "    <tr>\n",
       "      <th>2021-03-03</th>\n",
       "      <td>591.0</td>\n",
       "      <td>280.0</td>\n",
       "      <td>40.0</td>\n",
       "    </tr>\n",
       "    <tr>\n",
       "      <th>2021-03-04</th>\n",
       "      <td>563.0</td>\n",
       "      <td>297.0</td>\n",
       "      <td>43.0</td>\n",
       "    </tr>\n",
       "    <tr>\n",
       "      <th>2021-03-05</th>\n",
       "      <td>561.0</td>\n",
       "      <td>331.0</td>\n",
       "      <td>51.0</td>\n",
       "    </tr>\n",
       "    <tr>\n",
       "      <th>...</th>\n",
       "      <td>...</td>\n",
       "      <td>...</td>\n",
       "      <td>...</td>\n",
       "    </tr>\n",
       "    <tr>\n",
       "      <th>2023-02-24</th>\n",
       "      <td>576.0</td>\n",
       "      <td>271.0</td>\n",
       "      <td>47.0</td>\n",
       "    </tr>\n",
       "    <tr>\n",
       "      <th>2023-02-25</th>\n",
       "      <td>458.0</td>\n",
       "      <td>401.0</td>\n",
       "      <td>46.0</td>\n",
       "    </tr>\n",
       "    <tr>\n",
       "      <th>2023-02-26</th>\n",
       "      <td>508.0</td>\n",
       "      <td>329.0</td>\n",
       "      <td>53.0</td>\n",
       "    </tr>\n",
       "    <tr>\n",
       "      <th>2023-02-27</th>\n",
       "      <td>703.0</td>\n",
       "      <td>332.0</td>\n",
       "      <td>75.0</td>\n",
       "    </tr>\n",
       "    <tr>\n",
       "      <th>2023-02-28</th>\n",
       "      <td>472.0</td>\n",
       "      <td>439.0</td>\n",
       "      <td>50.0</td>\n",
       "    </tr>\n",
       "  </tbody>\n",
       "</table>\n",
       "<p>730 rows × 3 columns</p>\n",
       "</div>"
      ],
      "text/plain": [
       "category      0.0    1.0   2.0\n",
       "date_                         \n",
       "2021-03-01  581.0  335.0  46.0\n",
       "2021-03-02  620.0  276.0  43.0\n",
       "2021-03-03  591.0  280.0  40.0\n",
       "2021-03-04  563.0  297.0  43.0\n",
       "2021-03-05  561.0  331.0  51.0\n",
       "...           ...    ...   ...\n",
       "2023-02-24  576.0  271.0  47.0\n",
       "2023-02-25  458.0  401.0  46.0\n",
       "2023-02-26  508.0  329.0  53.0\n",
       "2023-02-27  703.0  332.0  75.0\n",
       "2023-02-28  472.0  439.0  50.0\n",
       "\n",
       "[730 rows x 3 columns]"
      ]
     },
     "execution_count": 190,
     "metadata": {},
     "output_type": "execute_result"
    }
   ],
   "source": [
    "courbe_evolution_categorie"
   ]
  },
  {
   "cell_type": "code",
   "execution_count": 191,
   "id": "ee9aacc3",
   "metadata": {},
   "outputs": [
    {
     "data": {
      "text/plain": [
       "<Figure size 1200x800 with 0 Axes>"
      ]
     },
     "metadata": {},
     "output_type": "display_data"
    },
    {
     "data": {
      "image/png": "[encoded data removed]",
      "text/plain": [
       "<Figure size 640x480 with 1 Axes>"
      ]
     },
     "metadata": {},
     "output_type": "display_data"
    }
   ],
   "source": [
    "plt.figure(figsize = (12,8))\n",
    "\n",
    "courbe_evolution_categorie.plot()\n",
    "plt.show()"
   ]
  },
  {
   "cell_type": "code",
   "execution_count": 192,
   "id": "6abbfe9c",
   "metadata": {},
   "outputs": [],
   "source": [
    "# Trouver les valeurs nulles\n",
    "\n",
    "null_values = courbe_evolution_categorie.isnull()"
   ]
  },
  {
   "cell_type": "code",
   "execution_count": 193,
   "id": "4dc89a49",
   "metadata": {},
   "outputs": [
    {
     "data": {
      "text/plain": [
       "category\n",
       "0.0     0\n",
       "1.0    26\n",
       "2.0     0\n",
       "dtype: int64"
      ]
     },
     "execution_count": 193,
     "metadata": {},
     "output_type": "execute_result"
    }
   ],
   "source": [
    "# Compter le nombre de valeurs nulles pour chaque colonne\n",
    "\n",
    "null_count = null_values.sum()\n",
    "null_count"
   ]
  },
  {
   "cell_type": "code",
   "execution_count": 194,
   "id": "099b0b7f",
   "metadata": {},
   "outputs": [],
   "source": [
    "null_values = courbe_evolution_categorie[[1.0]].isnull()"
   ]
  },
  {
   "cell_type": "code",
   "execution_count": 195,
   "id": "15aaf346",
   "metadata": {},
   "outputs": [
    {
     "data": {
      "text/html": [
       "<div>\n",
       "<style scoped>\n",
       "    .dataframe tbody tr th:only-of-type {\n",
       "        vertical-align: middle;\n",
       "    }\n",
       "\n",
       "    .dataframe tbody tr th {\n",
       "        vertical-align: top;\n",
       "    }\n",
       "\n",
       "    .dataframe thead th {\n",
       "        text-align: right;\n",
       "    }\n",
       "</style>\n",
       "<table border=\"1\" class=\"dataframe\">\n",
       "  <thead>\n",
       "    <tr style=\"text-align: right;\">\n",
       "      <th>category</th>\n",
       "      <th>1.0</th>\n",
       "    </tr>\n",
       "    <tr>\n",
       "      <th>date_</th>\n",
       "      <th></th>\n",
       "    </tr>\n",
       "  </thead>\n",
       "  <tbody>\n",
       "    <tr>\n",
       "      <th>2021-03-01</th>\n",
       "      <td>False</td>\n",
       "    </tr>\n",
       "    <tr>\n",
       "      <th>2021-03-02</th>\n",
       "      <td>False</td>\n",
       "    </tr>\n",
       "    <tr>\n",
       "      <th>2021-03-03</th>\n",
       "      <td>False</td>\n",
       "    </tr>\n",
       "    <tr>\n",
       "      <th>2021-03-04</th>\n",
       "      <td>False</td>\n",
       "    </tr>\n",
       "    <tr>\n",
       "      <th>2021-03-05</th>\n",
       "      <td>False</td>\n",
       "    </tr>\n",
       "    <tr>\n",
       "      <th>...</th>\n",
       "      <td>...</td>\n",
       "    </tr>\n",
       "    <tr>\n",
       "      <th>2021-10-27</th>\n",
       "      <td>True</td>\n",
       "    </tr>\n",
       "    <tr>\n",
       "      <th>2021-10-28</th>\n",
       "      <td>False</td>\n",
       "    </tr>\n",
       "    <tr>\n",
       "      <th>2021-10-29</th>\n",
       "      <td>False</td>\n",
       "    </tr>\n",
       "    <tr>\n",
       "      <th>2021-10-30</th>\n",
       "      <td>False</td>\n",
       "    </tr>\n",
       "    <tr>\n",
       "      <th>2021-10-31</th>\n",
       "      <td>False</td>\n",
       "    </tr>\n",
       "  </tbody>\n",
       "</table>\n",
       "<p>245 rows × 1 columns</p>\n",
       "</div>"
      ],
      "text/plain": [
       "category      1.0\n",
       "date_            \n",
       "2021-03-01  False\n",
       "2021-03-02  False\n",
       "2021-03-03  False\n",
       "2021-03-04  False\n",
       "2021-03-05  False\n",
       "...           ...\n",
       "2021-10-27   True\n",
       "2021-10-28  False\n",
       "2021-10-29  False\n",
       "2021-10-30  False\n",
       "2021-10-31  False\n",
       "\n",
       "[245 rows x 1 columns]"
      ]
     },
     "execution_count": 195,
     "metadata": {},
     "output_type": "execute_result"
    }
   ],
   "source": [
    "null_values.head(245)"
   ]
  },
  {
   "cell_type": "markdown",
   "id": "698c13a2",
   "metadata": {},
   "source": [
    "La courbe de la categorie 1 présente une discontinuité sur la periode d'Octobre 2021, plus precisement du 2021-10-02 au 2021-10-27 dans sa progression, indiquant une période de diminution des valeurs. Toutefois, cette interruption est suivie d'une reprise significative des valeurs, signalant une reprise du phénomène représenté par la courbe.\n",
    "Par conséquent,  l'évolution dans le temps de nos données (chiffre d'affaire journalier) chute soudainement sur la période de 2021-10-02 au 2021-10-27 à cause d'une absance de commande passer par nos clients. C'est ce qui explique la baisse du chiffre d'affaire "
   ]
  },
  {
   "cell_type": "markdown",
   "id": "923fc03a",
   "metadata": {},
   "source": [
    "## 3-  Il serait également intéressant de faire un zoom sur les références, pour voir un peu les tops et les flops, la répartition par catégorie."
   ]
  },
  {
   "cell_type": "markdown",
   "id": "5e663329",
   "metadata": {},
   "source": [
    "### 3-a Determinons les flops et les tops "
   ]
  },
  {
   "cell_type": "code",
   "execution_count": 196,
   "id": "24c8a3b1",
   "metadata": {},
   "outputs": [],
   "source": [
    "tops_flops_produits = (df_transactions_customers_products.\n",
    "                                           groupby('id_product').\n",
    "                                           count()[['price']] )"
   ]
  },
  {
   "cell_type": "code",
   "execution_count": 197,
   "id": "f9e2c5a8",
   "metadata": {},
   "outputs": [],
   "source": [
    "tops_flops_produits = tops_flops_produits.sort_values(by=['price'])"
   ]
  },
  {
   "cell_type": "code",
   "execution_count": 198,
   "id": "1a9e8eee",
   "metadata": {},
   "outputs": [
    {
     "data": {
      "text/html": [
       "<div>\n",
       "<style scoped>\n",
       "    .dataframe tbody tr th:only-of-type {\n",
       "        vertical-align: middle;\n",
       "    }\n",
       "\n",
       "    .dataframe tbody tr th {\n",
       "        vertical-align: top;\n",
       "    }\n",
       "\n",
       "    .dataframe thead th {\n",
       "        text-align: right;\n",
       "    }\n",
       "</style>\n",
       "<table border=\"1\" class=\"dataframe\">\n",
       "  <thead>\n",
       "    <tr style=\"text-align: right;\">\n",
       "      <th></th>\n",
       "      <th>price</th>\n",
       "    </tr>\n",
       "    <tr>\n",
       "      <th>id_product</th>\n",
       "      <th></th>\n",
       "    </tr>\n",
       "  </thead>\n",
       "  <tbody>\n",
       "    <tr>\n",
       "      <th>0_2201</th>\n",
       "      <td>1</td>\n",
       "    </tr>\n",
       "    <tr>\n",
       "      <th>0_1601</th>\n",
       "      <td>1</td>\n",
       "    </tr>\n",
       "    <tr>\n",
       "      <th>0_549</th>\n",
       "      <td>1</td>\n",
       "    </tr>\n",
       "    <tr>\n",
       "      <th>2_81</th>\n",
       "      <td>1</td>\n",
       "    </tr>\n",
       "    <tr>\n",
       "      <th>0_807</th>\n",
       "      <td>1</td>\n",
       "    </tr>\n",
       "    <tr>\n",
       "      <th>0_1683</th>\n",
       "      <td>1</td>\n",
       "    </tr>\n",
       "    <tr>\n",
       "      <th>0_1151</th>\n",
       "      <td>1</td>\n",
       "    </tr>\n",
       "    <tr>\n",
       "      <th>0_1633</th>\n",
       "      <td>1</td>\n",
       "    </tr>\n",
       "    <tr>\n",
       "      <th>0_833</th>\n",
       "      <td>1</td>\n",
       "    </tr>\n",
       "    <tr>\n",
       "      <th>0_886</th>\n",
       "      <td>1</td>\n",
       "    </tr>\n",
       "  </tbody>\n",
       "</table>\n",
       "</div>"
      ],
      "text/plain": [
       "            price\n",
       "id_product       \n",
       "0_2201          1\n",
       "0_1601          1\n",
       "0_549           1\n",
       "2_81            1\n",
       "0_807           1\n",
       "0_1683          1\n",
       "0_1151          1\n",
       "0_1633          1\n",
       "0_833           1\n",
       "0_886           1"
      ]
     },
     "execution_count": 198,
     "metadata": {},
     "output_type": "execute_result"
    }
   ],
   "source": [
    "tops_flops_produits.head(10)\n",
    "\n",
    "# Les 10 Flops"
   ]
  },
  {
   "cell_type": "code",
   "execution_count": 199,
   "id": "430aa0d0",
   "metadata": {},
   "outputs": [
    {
     "data": {
      "text/html": [
       "<div>\n",
       "<style scoped>\n",
       "    .dataframe tbody tr th:only-of-type {\n",
       "        vertical-align: middle;\n",
       "    }\n",
       "\n",
       "    .dataframe tbody tr th {\n",
       "        vertical-align: top;\n",
       "    }\n",
       "\n",
       "    .dataframe thead th {\n",
       "        text-align: right;\n",
       "    }\n",
       "</style>\n",
       "<table border=\"1\" class=\"dataframe\">\n",
       "  <thead>\n",
       "    <tr style=\"text-align: right;\">\n",
       "      <th></th>\n",
       "      <th>price</th>\n",
       "    </tr>\n",
       "    <tr>\n",
       "      <th>id_product</th>\n",
       "      <th></th>\n",
       "    </tr>\n",
       "  </thead>\n",
       "  <tbody>\n",
       "    <tr>\n",
       "      <th>1_407</th>\n",
       "      <td>1935</td>\n",
       "    </tr>\n",
       "    <tr>\n",
       "      <th>1_406</th>\n",
       "      <td>1939</td>\n",
       "    </tr>\n",
       "    <tr>\n",
       "      <th>1_413</th>\n",
       "      <td>1945</td>\n",
       "    </tr>\n",
       "    <tr>\n",
       "      <th>1_412</th>\n",
       "      <td>1951</td>\n",
       "    </tr>\n",
       "    <tr>\n",
       "      <th>1_403</th>\n",
       "      <td>1960</td>\n",
       "    </tr>\n",
       "    <tr>\n",
       "      <th>1_425</th>\n",
       "      <td>2096</td>\n",
       "    </tr>\n",
       "    <tr>\n",
       "      <th>1_498</th>\n",
       "      <td>2128</td>\n",
       "    </tr>\n",
       "    <tr>\n",
       "      <th>1_414</th>\n",
       "      <td>2180</td>\n",
       "    </tr>\n",
       "    <tr>\n",
       "      <th>1_417</th>\n",
       "      <td>2189</td>\n",
       "    </tr>\n",
       "    <tr>\n",
       "      <th>1_369</th>\n",
       "      <td>2252</td>\n",
       "    </tr>\n",
       "  </tbody>\n",
       "</table>\n",
       "</div>"
      ],
      "text/plain": [
       "            price\n",
       "id_product       \n",
       "1_407        1935\n",
       "1_406        1939\n",
       "1_413        1945\n",
       "1_412        1951\n",
       "1_403        1960\n",
       "1_425        2096\n",
       "1_498        2128\n",
       "1_414        2180\n",
       "1_417        2189\n",
       "1_369        2252"
      ]
     },
     "execution_count": 199,
     "metadata": {},
     "output_type": "execute_result"
    }
   ],
   "source": [
    "tops_flops_produits.tail(10)\n",
    "\n",
    "# Les 10 Tops"
   ]
  },
  {
   "cell_type": "markdown",
   "id": "fb34c93c",
   "metadata": {},
   "source": [
    "### 3-b La repartition par categorie"
   ]
  },
  {
   "cell_type": "code",
   "execution_count": 200,
   "id": "f36ebefe",
   "metadata": {},
   "outputs": [],
   "source": [
    "# La repartition par categorie\n",
    "\n",
    "repatition_category = df_transactions_customers_products['category'].value_counts(normalize=True)"
   ]
  },
  {
   "cell_type": "code",
   "execution_count": 201,
   "id": "12fec618",
   "metadata": {},
   "outputs": [
    {
     "data": {
      "text/plain": [
       "0.0    0.611769\n",
       "1.0    0.334509\n",
       "2.0    0.053722\n",
       "Name: category, dtype: float64"
      ]
     },
     "execution_count": 201,
     "metadata": {},
     "output_type": "execute_result"
    }
   ],
   "source": [
    "repatition_category"
   ]
  },
  {
   "cell_type": "markdown",
   "id": "14cf9454",
   "metadata": {},
   "source": [
    "## 4- Enfin, j’aimerais avoir quelques informations sur les profils de nos clients, et également la répartition du chiffre d'affaires entre eux, via par exemple une courbe de Lorenz."
   ]
  },
  {
   "cell_type": "markdown",
   "id": "6833f97a",
   "metadata": {},
   "source": [
    "###  4-a Les informations sur les profils de nos clients"
   ]
  },
  {
   "cell_type": "code",
   "execution_count": 202,
   "id": "cf686059",
   "metadata": {},
   "outputs": [
    {
     "data": {
      "text/plain": [
       "m    0.501871\n",
       "f    0.498129\n",
       "Name: sex, dtype: float64"
      ]
     },
     "execution_count": 202,
     "metadata": {},
     "output_type": "execute_result"
    }
   ],
   "source": [
    "df_transactions_customers_products['sex'].value_counts(normalize=True)"
   ]
  },
  {
   "cell_type": "code",
   "execution_count": 203,
   "id": "b5297664",
   "metadata": {},
   "outputs": [
    {
     "data": {
      "image/png": "[encoded data removed]",
      "text/plain": [
       "<Figure size 640x480 with 1 Axes>"
      ]
     },
     "metadata": {},
     "output_type": "display_data"
    }
   ],
   "source": [
    "# Representons nos clients à l'aide \n",
    "   # d'un diagramme en tuyaux d'orgues ou diagramme en barre \n",
    "\n",
    "df_transactions_customers_products['sex'].value_counts(normalize=True).plot(kind='bar', title='profil des clients')\n",
    "plt.xlabel('le genre des clients')\n",
    "plt.ylabel('')\n",
    "plt.show()"
   ]
  },
  {
   "cell_type": "markdown",
   "id": "a3f3de8b",
   "metadata": {},
   "source": [
    "### 4-b La répartition du chiffre d'affaires entre les clients"
   ]
  },
  {
   "cell_type": "code",
   "execution_count": 204,
   "id": "e7cc861b",
   "metadata": {},
   "outputs": [],
   "source": [
    "repartition_CA_clients = round(df_transactions_customers_products.\n",
    "                               groupby('client_id').\n",
    "                               sum() [['price']], 2)"
   ]
  },
  {
   "cell_type": "code",
   "execution_count": 205,
   "id": "85f6ba65",
   "metadata": {},
   "outputs": [],
   "source": [
    "repartition_CA_clients = repartition_CA_clients.sort_values(by=['price'])"
   ]
  },
  {
   "cell_type": "code",
   "execution_count": 206,
   "id": "7609bb42",
   "metadata": {},
   "outputs": [
    {
     "data": {
      "text/html": [
       "<div>\n",
       "<style scoped>\n",
       "    .dataframe tbody tr th:only-of-type {\n",
       "        vertical-align: middle;\n",
       "    }\n",
       "\n",
       "    .dataframe tbody tr th {\n",
       "        vertical-align: top;\n",
       "    }\n",
       "\n",
       "    .dataframe thead th {\n",
       "        text-align: right;\n",
       "    }\n",
       "</style>\n",
       "<table border=\"1\" class=\"dataframe\">\n",
       "  <thead>\n",
       "    <tr style=\"text-align: right;\">\n",
       "      <th></th>\n",
       "      <th>price</th>\n",
       "    </tr>\n",
       "    <tr>\n",
       "      <th>client_id</th>\n",
       "      <th></th>\n",
       "    </tr>\n",
       "  </thead>\n",
       "  <tbody>\n",
       "    <tr>\n",
       "      <th>c_8351</th>\n",
       "      <td>6.31</td>\n",
       "    </tr>\n",
       "    <tr>\n",
       "      <th>c_8140</th>\n",
       "      <td>8.30</td>\n",
       "    </tr>\n",
       "    <tr>\n",
       "      <th>c_8114</th>\n",
       "      <td>9.98</td>\n",
       "    </tr>\n",
       "    <tr>\n",
       "      <th>c_240</th>\n",
       "      <td>11.06</td>\n",
       "    </tr>\n",
       "    <tr>\n",
       "      <th>c_4648</th>\n",
       "      <td>11.20</td>\n",
       "    </tr>\n",
       "    <tr>\n",
       "      <th>...</th>\n",
       "      <td>...</td>\n",
       "    </tr>\n",
       "    <tr>\n",
       "      <th>c_3263</th>\n",
       "      <td>5276.87</td>\n",
       "    </tr>\n",
       "    <tr>\n",
       "      <th>c_3454</th>\n",
       "      <td>113637.93</td>\n",
       "    </tr>\n",
       "    <tr>\n",
       "      <th>c_6714</th>\n",
       "      <td>153598.92</td>\n",
       "    </tr>\n",
       "    <tr>\n",
       "      <th>c_4958</th>\n",
       "      <td>289760.34</td>\n",
       "    </tr>\n",
       "    <tr>\n",
       "      <th>c_1609</th>\n",
       "      <td>324033.35</td>\n",
       "    </tr>\n",
       "  </tbody>\n",
       "</table>\n",
       "<p>8600 rows × 1 columns</p>\n",
       "</div>"
      ],
      "text/plain": [
       "               price\n",
       "client_id           \n",
       "c_8351          6.31\n",
       "c_8140          8.30\n",
       "c_8114          9.98\n",
       "c_240          11.06\n",
       "c_4648         11.20\n",
       "...              ...\n",
       "c_3263       5276.87\n",
       "c_3454     113637.93\n",
       "c_6714     153598.92\n",
       "c_4958     289760.34\n",
       "c_1609     324033.35\n",
       "\n",
       "[8600 rows x 1 columns]"
      ]
     },
     "execution_count": 206,
     "metadata": {},
     "output_type": "execute_result"
    }
   ],
   "source": [
    "repartition_CA_clients"
   ]
  },
  {
   "cell_type": "markdown",
   "id": "185b9f14",
   "metadata": {},
   "source": [
    "- Les 4 derniers clients sont potentielement des clients professionnelles ou des revendeurs. "
   ]
  },
  {
   "cell_type": "markdown",
   "id": "02876c1f",
   "metadata": {},
   "source": [
    "### 4-c Déterminons la proportion du chiffre d'affaires de nos quatres clients potentiels"
   ]
  },
  {
   "cell_type": "code",
   "execution_count": 207,
   "id": "6e4ef295",
   "metadata": {},
   "outputs": [],
   "source": [
    "chiffre_affaires_total_clients = repartition_CA_clients['price'].sum()"
   ]
  },
  {
   "cell_type": "code",
   "execution_count": 208,
   "id": "6e99ab53",
   "metadata": {},
   "outputs": [
    {
     "data": {
      "text/plain": [
       "11853728.68"
      ]
     },
     "execution_count": 208,
     "metadata": {},
     "output_type": "execute_result"
    }
   ],
   "source": [
    "chiffre_affaires_total_clients\n",
    "\n",
    "# Le chiffre d'affaire total de tous nos clients est de 11853728.68"
   ]
  },
  {
   "cell_type": "code",
   "execution_count": 209,
   "id": "b2735913",
   "metadata": {},
   "outputs": [],
   "source": [
    "client = [113637.93, 153598.92, 289760.34, 324033.35]\n",
    "CA_client_potentiel = repartition_CA_clients.loc[repartition_CA_clients['price'].isin(client), :]\n",
    "\n",
    "# la methode isin() permet d'eviter les jointures parfois. elle est beaucoup utile. elle est en rapport avec .loc[]"
   ]
  },
  {
   "cell_type": "code",
   "execution_count": 210,
   "id": "5be3a878",
   "metadata": {},
   "outputs": [
    {
     "data": {
      "text/html": [
       "<div>\n",
       "<style scoped>\n",
       "    .dataframe tbody tr th:only-of-type {\n",
       "        vertical-align: middle;\n",
       "    }\n",
       "\n",
       "    .dataframe tbody tr th {\n",
       "        vertical-align: top;\n",
       "    }\n",
       "\n",
       "    .dataframe thead th {\n",
       "        text-align: right;\n",
       "    }\n",
       "</style>\n",
       "<table border=\"1\" class=\"dataframe\">\n",
       "  <thead>\n",
       "    <tr style=\"text-align: right;\">\n",
       "      <th></th>\n",
       "      <th>price</th>\n",
       "    </tr>\n",
       "    <tr>\n",
       "      <th>client_id</th>\n",
       "      <th></th>\n",
       "    </tr>\n",
       "  </thead>\n",
       "  <tbody>\n",
       "    <tr>\n",
       "      <th>c_3454</th>\n",
       "      <td>113637.93</td>\n",
       "    </tr>\n",
       "    <tr>\n",
       "      <th>c_6714</th>\n",
       "      <td>153598.92</td>\n",
       "    </tr>\n",
       "    <tr>\n",
       "      <th>c_4958</th>\n",
       "      <td>289760.34</td>\n",
       "    </tr>\n",
       "    <tr>\n",
       "      <th>c_1609</th>\n",
       "      <td>324033.35</td>\n",
       "    </tr>\n",
       "  </tbody>\n",
       "</table>\n",
       "</div>"
      ],
      "text/plain": [
       "               price\n",
       "client_id           \n",
       "c_3454     113637.93\n",
       "c_6714     153598.92\n",
       "c_4958     289760.34\n",
       "c_1609     324033.35"
      ]
     },
     "execution_count": 210,
     "metadata": {},
     "output_type": "execute_result"
    }
   ],
   "source": [
    "CA_client_potentiel"
   ]
  },
  {
   "cell_type": "code",
   "execution_count": 211,
   "id": "fadf49a6",
   "metadata": {},
   "outputs": [],
   "source": [
    "nos_quatre_clients_potentiel = round(CA_client_potentiel['price'].sum(),2)"
   ]
  },
  {
   "cell_type": "code",
   "execution_count": 212,
   "id": "f95ba2e7",
   "metadata": {},
   "outputs": [
    {
     "data": {
      "text/plain": [
       "881030.54"
      ]
     },
     "execution_count": 212,
     "metadata": {},
     "output_type": "execute_result"
    }
   ],
   "source": [
    "nos_quatre_clients_potentiel\n",
    "\n",
    "# Le chiffre d'affaire total de nos 4 clients potentiels est de 881030.54"
   ]
  },
  {
   "cell_type": "code",
   "execution_count": 213,
   "id": "4303090f",
   "metadata": {},
   "outputs": [
    {
     "data": {
      "text/plain": [
       "7.432518187180238"
      ]
     },
     "execution_count": 213,
     "metadata": {},
     "output_type": "execute_result"
    }
   ],
   "source": [
    "proportion_client_potentiel = nos_quatre_clients_potentiel*100/chiffre_affaires_total_clients\n",
    "\n",
    "proportion_client_potentiel\n",
    "\n",
    "# La proportion de nos 4 clients clients potentiels est de 7%"
   ]
  },
  {
   "cell_type": "markdown",
   "id": "9e196a7d",
   "metadata": {},
   "source": [
    "### 4-d La courbe de Lorenz."
   ]
  },
  {
   "cell_type": "code",
   "execution_count": 214,
   "id": "bc7abde4",
   "metadata": {},
   "outputs": [
    {
     "data": {
      "image/png": "[encoded data removed]",
      "text/plain": [
       "<Figure size 640x480 with 1 Axes>"
      ]
     },
     "metadata": {},
     "output_type": "display_data"
    }
   ],
   "source": [
    "# calcul des quantités cumulées de revenus/richesses\n",
    "\n",
    "cumulative_perc = np.cumsum(np.sort(repartition_CA_clients['price'])) / np.sum(repartition_CA_clients['price'])\n",
    "cumulative_perc = np.insert(cumulative_perc, 0, 0)\n",
    "\n",
    "# courbe de Lorenz\n",
    "fig, ax = plt.subplots()\n",
    "ax.plot(np.linspace(0,1,len(cumulative_perc)), cumulative_perc, drawstyle='steps-post')\n",
    "ax.plot(np.linspace(0,1,len(cumulative_perc)), cumulative_perc, color='blue', label='Courbe de Lorenz')\n",
    "ax.plot([0,1], [0,1], color='red', linestyle='--', label='Droite d\\'égalité')\n",
    "ax.set_xlabel('Proportion de la population')\n",
    "ax.set_ylabel(\"Proportion du chiffre d'affaires\")\n",
    "ax.set_title('Courbe de Lorenz')\n",
    "ax.legend()\n",
    "plt.show()"
   ]
  },
  {
   "cell_type": "markdown",
   "id": "ae795cd5",
   "metadata": {},
   "source": [
    "La courbe de lorenz est une mesure de concentration.\n",
    "\n",
    "L'extrémité de la courbe de Lorez est asymptomatique verticale. En gros plus elle tend d'un coté, moins la répartion est égalitaire. dans notre cas, il y a une minorité de client qui constituent une majorité du chiffre d'affaires soit 7% du chiffre d'affaire total."
   ]
  },
  {
   "cell_type": "markdown",
   "id": "173a7ec8",
   "metadata": {},
   "source": [
    "## IV- REPONSES AUX QUESTIONS DE JULIE"
   ]
  },
  {
   "cell_type": "markdown",
   "id": "2f04aa29",
   "metadata": {},
   "source": [
    "## 1- Faire une analyse plus ciblée sur les clients :"
   ]
  },
  {
   "cell_type": "markdown",
   "id": "96dbd103",
   "metadata": {},
   "source": [
    "### 1-a le lien entre le genre d’un client et les catégories des livres achetés"
   ]
  },
  {
   "cell_type": "code",
   "execution_count": 215,
   "id": "eed2ee87",
   "metadata": {},
   "outputs": [
    {
     "data": {
      "image/png": "[encoded data removed]",
      "text/plain": [
       "<Figure size 1400x600 with 1 Axes>"
      ]
     },
     "metadata": {},
     "output_type": "display_data"
    }
   ],
   "source": [
    "# Le lien entre le \"genre\" d’un client et les \"catégories\" des livres achetés (Diagramme a barre) \n",
    "\n",
    "plt.figure(figsize=(14,6))  # pour agrandire le graphique\n",
    "\n",
    "sns.countplot(x = 'sex', hue = 'category', data = df_transactions_customers_products)\n",
    "plt.title(\"Rélation entre le genre d’un client et les catégories des livres achetés\")\n",
    "plt.show()"
   ]
  },
  {
   "cell_type": "markdown",
   "id": "0aa92a6a",
   "metadata": {},
   "source": [
    "HIPOTHESE\n",
    "\n",
    "- Hypothèse nulle: Il n'y a pas de relation significative entre le genre d'un client et les catégories de livres achetés.\n",
    "\n",
    "- Hypothèse alternative: Il existe une relation significative entre le genre d'un client et les catégories de livres achetés. "
   ]
  },
  {
   "cell_type": "code",
   "execution_count": 216,
   "id": "aac27dcf",
   "metadata": {},
   "outputs": [],
   "source": [
    "# tableau de contingence entre le \"genre\" d’un client et les \"catégories\" des livres achetés\n",
    "\n",
    "cont_table = pd.crosstab(df_transactions_customers_products['sex'],\n",
    "            df_transactions_customers_products['category'])"
   ]
  },
  {
   "cell_type": "code",
   "execution_count": 217,
   "id": "3a045fa0",
   "metadata": {},
   "outputs": [
    {
     "data": {
      "text/html": [
       "<div>\n",
       "<style scoped>\n",
       "    .dataframe tbody tr th:only-of-type {\n",
       "        vertical-align: middle;\n",
       "    }\n",
       "\n",
       "    .dataframe tbody tr th {\n",
       "        vertical-align: top;\n",
       "    }\n",
       "\n",
       "    .dataframe thead th {\n",
       "        text-align: right;\n",
       "    }\n",
       "</style>\n",
       "<table border=\"1\" class=\"dataframe\">\n",
       "  <thead>\n",
       "    <tr style=\"text-align: right;\">\n",
       "      <th>category</th>\n",
       "      <th>0.0</th>\n",
       "      <th>1.0</th>\n",
       "      <th>2.0</th>\n",
       "    </tr>\n",
       "    <tr>\n",
       "      <th>sex</th>\n",
       "      <th></th>\n",
       "      <th></th>\n",
       "      <th></th>\n",
       "    </tr>\n",
       "  </thead>\n",
       "  <tbody>\n",
       "    <tr>\n",
       "      <th>f</th>\n",
       "      <td>206103</td>\n",
       "      <td>114899</td>\n",
       "      <td>17283</td>\n",
       "    </tr>\n",
       "    <tr>\n",
       "      <th>m</th>\n",
       "      <td>209356</td>\n",
       "      <td>112270</td>\n",
       "      <td>19200</td>\n",
       "    </tr>\n",
       "  </tbody>\n",
       "</table>\n",
       "</div>"
      ],
      "text/plain": [
       "category     0.0     1.0    2.0\n",
       "sex                            \n",
       "f         206103  114899  17283\n",
       "m         209356  112270  19200"
      ]
     },
     "execution_count": 217,
     "metadata": {},
     "output_type": "execute_result"
    }
   ],
   "source": [
    "cont_table"
   ]
  },
  {
   "cell_type": "markdown",
   "id": "83a5af82",
   "metadata": {},
   "source": [
    "### 1-b Test de Chi2"
   ]
  },
  {
   "cell_type": "code",
   "execution_count": 218,
   "id": "910a0dc8",
   "metadata": {},
   "outputs": [
    {
     "data": {
      "text/plain": [
       "(147.11906816131497,\n",
       " 1.1310980597090762e-32,\n",
       " 2,\n",
       " array([[206952.24759281, 113159.50583189,  18173.2465753 ],\n",
       "        [208506.75240719, 114009.49416811,  18309.7534247 ]]))"
      ]
     },
     "execution_count": 218,
     "metadata": {},
     "output_type": "execute_result"
    }
   ],
   "source": [
    "# Test de Chi2\n",
    "\n",
    "stats.chi2_contingency(cont_table, correction = True)"
   ]
  },
  {
   "cell_type": "markdown",
   "id": "1867b9eb",
   "metadata": {},
   "source": [
    "L'analyse statistique a révélé une p-valeur extrêmement faible de 1.1310980597090762e-32 pour le test d'indépendance entre le genre d'un client et les catégories de livres achetés. Cette p-valeur très faible suggère qu'il existe une association statistiquement significative et très forte entre le genre du client et les catégories de livres achetés. En d'autres termes, le genre est un facteur extrêmement important dans le choix des livres et il est peu probable que cette association soit due au hasard."
   ]
  },
  {
   "cell_type": "markdown",
   "id": "4d3923d9",
   "metadata": {},
   "source": [
    "## 2- et ensuite le lien entre l’âge des clients et le montant total des achats, la fréquence d’achat, la taille du panier moyen et les catégories des livres achetés."
   ]
  },
  {
   "cell_type": "markdown",
   "id": "43113374",
   "metadata": {},
   "source": [
    "### 2-a Calculons le montant total, la fréquence d'achat et le panier moyen"
   ]
  },
  {
   "cell_type": "code",
   "execution_count": 219,
   "id": "f162e8e6",
   "metadata": {},
   "outputs": [],
   "source": [
    "# Calcul du montant total des achats par client\n",
    "\n",
    "montant_total = df_transactions_customers_products.groupby('birthday').sum()[['price']]"
   ]
  },
  {
   "cell_type": "code",
   "execution_count": 220,
   "id": "53cdca58",
   "metadata": {},
   "outputs": [],
   "source": [
    "# Calcul de la fréquence d'achat par client\n",
    "\n",
    "frequence_achat = df_transactions_customers_products.groupby('birthday').count()[['date']]"
   ]
  },
  {
   "cell_type": "code",
   "execution_count": 221,
   "id": "5b822854",
   "metadata": {},
   "outputs": [],
   "source": [
    "# Calcul de la taille du panier moyen par client\n",
    "\n",
    "taille_panier_moyen = df_transactions_customers_products.groupby('birthday').mean()[['price']]"
   ]
  },
  {
   "cell_type": "code",
   "execution_count": 222,
   "id": "4184ff5c",
   "metadata": {},
   "outputs": [],
   "source": [
    "taille_panier_moyen = taille_panier_moyen.rename(columns={'price': 'panier_moyen'})"
   ]
  },
  {
   "cell_type": "code",
   "execution_count": 223,
   "id": "dda735b3",
   "metadata": {},
   "outputs": [
    {
     "data": {
      "text/html": [
       "<div>\n",
       "<style scoped>\n",
       "    .dataframe tbody tr th:only-of-type {\n",
       "        vertical-align: middle;\n",
       "    }\n",
       "\n",
       "    .dataframe tbody tr th {\n",
       "        vertical-align: top;\n",
       "    }\n",
       "\n",
       "    .dataframe thead th {\n",
       "        text-align: right;\n",
       "    }\n",
       "</style>\n",
       "<table border=\"1\" class=\"dataframe\">\n",
       "  <thead>\n",
       "    <tr style=\"text-align: right;\">\n",
       "      <th></th>\n",
       "      <th>panier_moyen</th>\n",
       "    </tr>\n",
       "    <tr>\n",
       "      <th>birthday</th>\n",
       "      <th></th>\n",
       "    </tr>\n",
       "  </thead>\n",
       "  <tbody>\n",
       "    <tr>\n",
       "      <th>1929.0</th>\n",
       "      <td>16.029104</td>\n",
       "    </tr>\n",
       "    <tr>\n",
       "      <th>1930.0</th>\n",
       "      <td>17.760487</td>\n",
       "    </tr>\n",
       "    <tr>\n",
       "      <th>1931.0</th>\n",
       "      <td>16.561471</td>\n",
       "    </tr>\n",
       "    <tr>\n",
       "      <th>1932.0</th>\n",
       "      <td>16.216045</td>\n",
       "    </tr>\n",
       "    <tr>\n",
       "      <th>1933.0</th>\n",
       "      <td>16.117638</td>\n",
       "    </tr>\n",
       "    <tr>\n",
       "      <th>...</th>\n",
       "      <td>...</td>\n",
       "    </tr>\n",
       "    <tr>\n",
       "      <th>2000.0</th>\n",
       "      <td>37.391339</td>\n",
       "    </tr>\n",
       "    <tr>\n",
       "      <th>2001.0</th>\n",
       "      <td>41.979704</td>\n",
       "    </tr>\n",
       "    <tr>\n",
       "      <th>2002.0</th>\n",
       "      <td>40.178305</td>\n",
       "    </tr>\n",
       "    <tr>\n",
       "      <th>2003.0</th>\n",
       "      <td>40.767737</td>\n",
       "    </tr>\n",
       "    <tr>\n",
       "      <th>2004.0</th>\n",
       "      <td>40.201577</td>\n",
       "    </tr>\n",
       "  </tbody>\n",
       "</table>\n",
       "<p>76 rows × 1 columns</p>\n",
       "</div>"
      ],
      "text/plain": [
       "          panier_moyen\n",
       "birthday              \n",
       "1929.0       16.029104\n",
       "1930.0       17.760487\n",
       "1931.0       16.561471\n",
       "1932.0       16.216045\n",
       "1933.0       16.117638\n",
       "...                ...\n",
       "2000.0       37.391339\n",
       "2001.0       41.979704\n",
       "2002.0       40.178305\n",
       "2003.0       40.767737\n",
       "2004.0       40.201577\n",
       "\n",
       "[76 rows x 1 columns]"
      ]
     },
     "execution_count": 223,
     "metadata": {},
     "output_type": "execute_result"
    }
   ],
   "source": [
    "taille_panier_moyen"
   ]
  },
  {
   "cell_type": "code",
   "execution_count": 224,
   "id": "90487991",
   "metadata": {},
   "outputs": [],
   "source": [
    "# Joindre les données calculées en un seul dataframe\n",
    "\n",
    "resultats = pd.concat([montant_total, frequence_achat, taille_panier_moyen], axis=1)"
   ]
  },
  {
   "cell_type": "code",
   "execution_count": 225,
   "id": "c74ff56e",
   "metadata": {},
   "outputs": [
    {
     "data": {
      "text/html": [
       "<div>\n",
       "<style scoped>\n",
       "    .dataframe tbody tr th:only-of-type {\n",
       "        vertical-align: middle;\n",
       "    }\n",
       "\n",
       "    .dataframe tbody tr th {\n",
       "        vertical-align: top;\n",
       "    }\n",
       "\n",
       "    .dataframe thead th {\n",
       "        text-align: right;\n",
       "    }\n",
       "</style>\n",
       "<table border=\"1\" class=\"dataframe\">\n",
       "  <thead>\n",
       "    <tr style=\"text-align: right;\">\n",
       "      <th></th>\n",
       "      <th>price</th>\n",
       "      <th>date</th>\n",
       "      <th>panier_moyen</th>\n",
       "    </tr>\n",
       "    <tr>\n",
       "      <th>birthday</th>\n",
       "      <th></th>\n",
       "      <th></th>\n",
       "      <th></th>\n",
       "    </tr>\n",
       "  </thead>\n",
       "  <tbody>\n",
       "    <tr>\n",
       "      <th>1929.0</th>\n",
       "      <td>3221.85</td>\n",
       "      <td>201</td>\n",
       "      <td>16.029104</td>\n",
       "    </tr>\n",
       "    <tr>\n",
       "      <th>1930.0</th>\n",
       "      <td>4013.87</td>\n",
       "      <td>226</td>\n",
       "      <td>17.760487</td>\n",
       "    </tr>\n",
       "    <tr>\n",
       "      <th>1931.0</th>\n",
       "      <td>2815.45</td>\n",
       "      <td>170</td>\n",
       "      <td>16.561471</td>\n",
       "    </tr>\n",
       "    <tr>\n",
       "      <th>1932.0</th>\n",
       "      <td>5043.19</td>\n",
       "      <td>311</td>\n",
       "      <td>16.216045</td>\n",
       "    </tr>\n",
       "    <tr>\n",
       "      <th>1933.0</th>\n",
       "      <td>5254.35</td>\n",
       "      <td>326</td>\n",
       "      <td>16.117638</td>\n",
       "    </tr>\n",
       "    <tr>\n",
       "      <th>...</th>\n",
       "      <td>...</td>\n",
       "      <td>...</td>\n",
       "      <td>...</td>\n",
       "    </tr>\n",
       "    <tr>\n",
       "      <th>2000.0</th>\n",
       "      <td>165007.98</td>\n",
       "      <td>4413</td>\n",
       "      <td>37.391339</td>\n",
       "    </tr>\n",
       "    <tr>\n",
       "      <th>2001.0</th>\n",
       "      <td>178497.70</td>\n",
       "      <td>4252</td>\n",
       "      <td>41.979704</td>\n",
       "    </tr>\n",
       "    <tr>\n",
       "      <th>2002.0</th>\n",
       "      <td>184177.35</td>\n",
       "      <td>4584</td>\n",
       "      <td>40.178305</td>\n",
       "    </tr>\n",
       "    <tr>\n",
       "      <th>2003.0</th>\n",
       "      <td>178195.78</td>\n",
       "      <td>4371</td>\n",
       "      <td>40.767737</td>\n",
       "    </tr>\n",
       "    <tr>\n",
       "      <th>2004.0</th>\n",
       "      <td>609013.69</td>\n",
       "      <td>15149</td>\n",
       "      <td>40.201577</td>\n",
       "    </tr>\n",
       "  </tbody>\n",
       "</table>\n",
       "<p>76 rows × 3 columns</p>\n",
       "</div>"
      ],
      "text/plain": [
       "              price   date  panier_moyen\n",
       "birthday                                \n",
       "1929.0      3221.85    201     16.029104\n",
       "1930.0      4013.87    226     17.760487\n",
       "1931.0      2815.45    170     16.561471\n",
       "1932.0      5043.19    311     16.216045\n",
       "1933.0      5254.35    326     16.117638\n",
       "...             ...    ...           ...\n",
       "2000.0    165007.98   4413     37.391339\n",
       "2001.0    178497.70   4252     41.979704\n",
       "2002.0    184177.35   4584     40.178305\n",
       "2003.0    178195.78   4371     40.767737\n",
       "2004.0    609013.69  15149     40.201577\n",
       "\n",
       "[76 rows x 3 columns]"
      ]
     },
     "execution_count": 225,
     "metadata": {},
     "output_type": "execute_result"
    }
   ],
   "source": [
    "resultats"
   ]
  },
  {
   "cell_type": "code",
   "execution_count": 226,
   "id": "29fd941d",
   "metadata": {},
   "outputs": [],
   "source": [
    "resultats = resultats.reset_index()"
   ]
  },
  {
   "cell_type": "code",
   "execution_count": 227,
   "id": "7d95e3c0",
   "metadata": {},
   "outputs": [
    {
     "data": {
      "text/html": [
       "<div>\n",
       "<style scoped>\n",
       "    .dataframe tbody tr th:only-of-type {\n",
       "        vertical-align: middle;\n",
       "    }\n",
       "\n",
       "    .dataframe tbody tr th {\n",
       "        vertical-align: top;\n",
       "    }\n",
       "\n",
       "    .dataframe thead th {\n",
       "        text-align: right;\n",
       "    }\n",
       "</style>\n",
       "<table border=\"1\" class=\"dataframe\">\n",
       "  <thead>\n",
       "    <tr style=\"text-align: right;\">\n",
       "      <th></th>\n",
       "      <th>birthday</th>\n",
       "      <th>price</th>\n",
       "      <th>date</th>\n",
       "      <th>panier_moyen</th>\n",
       "    </tr>\n",
       "  </thead>\n",
       "  <tbody>\n",
       "    <tr>\n",
       "      <th>0</th>\n",
       "      <td>1929.0</td>\n",
       "      <td>3221.85</td>\n",
       "      <td>201</td>\n",
       "      <td>16.029104</td>\n",
       "    </tr>\n",
       "    <tr>\n",
       "      <th>1</th>\n",
       "      <td>1930.0</td>\n",
       "      <td>4013.87</td>\n",
       "      <td>226</td>\n",
       "      <td>17.760487</td>\n",
       "    </tr>\n",
       "    <tr>\n",
       "      <th>2</th>\n",
       "      <td>1931.0</td>\n",
       "      <td>2815.45</td>\n",
       "      <td>170</td>\n",
       "      <td>16.561471</td>\n",
       "    </tr>\n",
       "    <tr>\n",
       "      <th>3</th>\n",
       "      <td>1932.0</td>\n",
       "      <td>5043.19</td>\n",
       "      <td>311</td>\n",
       "      <td>16.216045</td>\n",
       "    </tr>\n",
       "    <tr>\n",
       "      <th>4</th>\n",
       "      <td>1933.0</td>\n",
       "      <td>5254.35</td>\n",
       "      <td>326</td>\n",
       "      <td>16.117638</td>\n",
       "    </tr>\n",
       "    <tr>\n",
       "      <th>...</th>\n",
       "      <td>...</td>\n",
       "      <td>...</td>\n",
       "      <td>...</td>\n",
       "      <td>...</td>\n",
       "    </tr>\n",
       "    <tr>\n",
       "      <th>71</th>\n",
       "      <td>2000.0</td>\n",
       "      <td>165007.98</td>\n",
       "      <td>4413</td>\n",
       "      <td>37.391339</td>\n",
       "    </tr>\n",
       "    <tr>\n",
       "      <th>72</th>\n",
       "      <td>2001.0</td>\n",
       "      <td>178497.70</td>\n",
       "      <td>4252</td>\n",
       "      <td>41.979704</td>\n",
       "    </tr>\n",
       "    <tr>\n",
       "      <th>73</th>\n",
       "      <td>2002.0</td>\n",
       "      <td>184177.35</td>\n",
       "      <td>4584</td>\n",
       "      <td>40.178305</td>\n",
       "    </tr>\n",
       "    <tr>\n",
       "      <th>74</th>\n",
       "      <td>2003.0</td>\n",
       "      <td>178195.78</td>\n",
       "      <td>4371</td>\n",
       "      <td>40.767737</td>\n",
       "    </tr>\n",
       "    <tr>\n",
       "      <th>75</th>\n",
       "      <td>2004.0</td>\n",
       "      <td>609013.69</td>\n",
       "      <td>15149</td>\n",
       "      <td>40.201577</td>\n",
       "    </tr>\n",
       "  </tbody>\n",
       "</table>\n",
       "<p>76 rows × 4 columns</p>\n",
       "</div>"
      ],
      "text/plain": [
       "    birthday      price   date  panier_moyen\n",
       "0     1929.0    3221.85    201     16.029104\n",
       "1     1930.0    4013.87    226     17.760487\n",
       "2     1931.0    2815.45    170     16.561471\n",
       "3     1932.0    5043.19    311     16.216045\n",
       "4     1933.0    5254.35    326     16.117638\n",
       "..       ...        ...    ...           ...\n",
       "71    2000.0  165007.98   4413     37.391339\n",
       "72    2001.0  178497.70   4252     41.979704\n",
       "73    2002.0  184177.35   4584     40.178305\n",
       "74    2003.0  178195.78   4371     40.767737\n",
       "75    2004.0  609013.69  15149     40.201577\n",
       "\n",
       "[76 rows x 4 columns]"
      ]
     },
     "execution_count": 227,
     "metadata": {},
     "output_type": "execute_result"
    }
   ],
   "source": [
    "resultats"
   ]
  },
  {
   "cell_type": "markdown",
   "id": "c435e038",
   "metadata": {},
   "source": [
    "### 2-b Affichons les graphiques et determinons le coéfficient de pearson entres les variables..."
   ]
  },
  {
   "cell_type": "markdown",
   "id": "e3adfd14",
   "metadata": {},
   "source": [
    "#### Le lien entre la variable \"birthday\" et \"panier_moyen\""
   ]
  },
  {
   "cell_type": "code",
   "execution_count": 228,
   "id": "6b306697",
   "metadata": {},
   "outputs": [
    {
     "data": {
      "image/png": "[encoded data removed]",
      "text/plain": [
       "<Figure size 640x480 with 1 Axes>"
      ]
     },
     "metadata": {},
     "output_type": "display_data"
    }
   ],
   "source": [
    "# Nuage de point entre la variable \"birthday\" et \"panier_moyen\"\n",
    "\n",
    "sns.regplot(x='birthday',y='panier_moyen',fit_reg=False, data = resultats)\n",
    "plt.title(\"relation entre l'age des clients' et la taille panier moyen\")\n",
    "plt.show()"
   ]
  },
  {
   "cell_type": "markdown",
   "id": "62ac9fc6",
   "metadata": {},
   "source": [
    "- Hypothèse nulle : Il n'y a pas de relation significative entre l'âge des clients et le panier moyen dans une librairie.\n",
    "\n",
    "\n",
    "- Hypothèse alternative : Il existe une relation significative entre l'âge des clients et le panier moyen , c'est-à-dire que le panier moyen des clients augmente ou diminue en fonction de leur âge."
   ]
  },
  {
   "cell_type": "markdown",
   "id": "60cf0718",
   "metadata": {},
   "source": [
    "#### Test de correlation entre les variables \"birthday\" et \"panier_moyen\""
   ]
  },
  {
   "cell_type": "code",
   "execution_count": 229,
   "id": "3da20f9e",
   "metadata": {},
   "outputs": [
    {
     "data": {
      "text/plain": [
       "PearsonRResult(statistic=0.5478614363791428, pvalue=3.0190378158491196e-07)"
      ]
     },
     "execution_count": 229,
     "metadata": {},
     "output_type": "execute_result"
    }
   ],
   "source": [
    "# Coefficient de correlation de pearson \n",
    "  # entre les variable \"birthday\" et \"panier_moyen\" \n",
    "\n",
    "stats.pearsonr(resultats['birthday'],resultats['panier_moyen'])"
   ]
  },
  {
   "cell_type": "markdown",
   "id": "b12f4505",
   "metadata": {},
   "source": [
    "Le coefficient de corrélation de Pearson entre l'age des clients et le panier moyen est de 0,548, ce qui suggère une corrélation modérée positive entre ces deux variables. De plus, la p-valeur associée est très faible (3,02e-07), ce qui suggère une forte confiance dans cette corrélation. En d'autres termes, il est peu probable que cette corrélation soit due au hasard."
   ]
  },
  {
   "cell_type": "code",
   "execution_count": 230,
   "id": "8a9707cf",
   "metadata": {},
   "outputs": [
    {
     "data": {
      "text/plain": [
       "ShapiroResult(statistic=0.9549236297607422, pvalue=0.008753503672778606)"
      ]
     },
     "execution_count": 230,
     "metadata": {},
     "output_type": "execute_result"
    }
   ],
   "source": [
    "# Test de Normalité de Shapiro-Wilk\n",
    "\n",
    "stats.shapiro(resultats['birthday'])"
   ]
  },
  {
   "cell_type": "markdown",
   "id": "b80e7fc0",
   "metadata": {},
   "source": [
    "Le test de normalité de Shapiro-Wilk utilisé pour évaluer si la variable birthday suit une distribution normale. La statistique de test est de 0.9549236297607422 avec une p-valeur de 0.008753503672778606. Comme la p-valeur est inférieure au niveau de signification de 0,05, nous pouvons rejeter l'hypothèse nulle selon laquelle la variable suit une distribution normale. Cela suggère que la variable birthday ne suit probablement pas une distribution normale dans l'échantillon étudié. Il est important de noter cependant que les tests de normalité peuvent être influencés par la taille de l'échantillon et que les résultats doivent être interprétés avec précaution."
   ]
  },
  {
   "cell_type": "code",
   "execution_count": 231,
   "id": "6d182d38",
   "metadata": {},
   "outputs": [
    {
     "data": {
      "text/plain": [
       "ShapiroResult(statistic=0.609671950340271, pvalue=6.608714769006097e-13)"
      ]
     },
     "execution_count": 231,
     "metadata": {},
     "output_type": "execute_result"
    }
   ],
   "source": [
    "# Test de Normalité de Shapiro-Wilk\n",
    "\n",
    "stats.shapiro(resultats['panier_moyen'])"
   ]
  },
  {
   "cell_type": "markdown",
   "id": "2da9c41a",
   "metadata": {},
   "source": [
    "Le test de normalité de Shapiro-Wilk utilisé pour évaluer si la variable panier moyen suit une distribution normale. La statistique de test est de 0.609671950340271 avec une p-valeur de 6.608714769006097e-13. Comme la p-valeur est inférieure au niveau de signification de 0,05, nous pouvons rejeter l'hypothèse nulle selon laquelle la variable suit une distribution normale. Cela suggère que la variable panier moyen ne suit probablement pas une distribution normale dans l'échantillon étudié. Il est important de noter cependant que les tests de normalité peuvent être influencés par la taille de l'échantillon et que les résultats doivent être interprétés avec précaution."
   ]
  },
  {
   "cell_type": "code",
   "execution_count": 232,
   "id": "3a46f4c9",
   "metadata": {},
   "outputs": [
    {
     "data": {
      "text/plain": [
       "LeveneResult(statistic=64.77400267963029, pvalue=2.37297028433904e-13)"
      ]
     },
     "execution_count": 232,
     "metadata": {},
     "output_type": "execute_result"
    }
   ],
   "source": [
    "# Test d'egalité des Variances\n",
    "\n",
    "stats.levene(resultats['birthday'], resultats['panier_moyen'], center = 'mean')"
   ]
  },
  {
   "cell_type": "markdown",
   "id": "bab54171",
   "metadata": {},
   "source": [
    "Le test d'égalité des variances effectué pour évaluer si les variances des variables birthday et panier moyen sont égales. La statistique de test est de 64.77400267963029 avec une p-valeur de 2.37297028433904e-13. Étant donné que la p-valeur est inférieure au niveau de signification de 0,05, nous pouvons rejeter l'hypothèse nulle selon laquelle les variances des deux variables sont égales. Cela suggère qu'il existe une différence significative entre les variances des deux variables étudiées."
   ]
  },
  {
   "cell_type": "code",
   "execution_count": 233,
   "id": "0fc64469",
   "metadata": {},
   "outputs": [
    {
     "data": {
      "text/plain": [
       "SpearmanrResult(correlation=0.08650717703349281, pvalue=0.45745267914381693)"
      ]
     },
     "execution_count": 233,
     "metadata": {},
     "output_type": "execute_result"
    }
   ],
   "source": [
    "# Test non paramétrique de spearman\n",
    "\n",
    "stats.spearmanr(resultats['birthday'],resultats['panier_moyen'])"
   ]
  },
  {
   "cell_type": "markdown",
   "id": "970f92ac",
   "metadata": {},
   "source": [
    "Le test de Spearman a été utilisé pour évaluer la corrélation entre l'âge des clients et le panier moyen, donnant une statistique de 0.08650717703349281 et une p-valeur de 0.45745267914381693. Avec une p-valeur supérieure à 0,05, nous ne pouvons pas rejeter l'hypothèse nulle selon laquelle il n'y a pas de corrélation significative entre l'âge des clients et le panier moyen. Cela suggère que l'âge des clients ne semble pas avoir d'impact significatif sur le montant de leur panier moyen."
   ]
  },
  {
   "cell_type": "markdown",
   "id": "ce7bd247",
   "metadata": {},
   "source": [
    "#### Le lien entre la variable \"birthday\" et \"date\""
   ]
  },
  {
   "cell_type": "code",
   "execution_count": 234,
   "id": "970f2a7b",
   "metadata": {},
   "outputs": [
    {
     "data": {
      "image/png": "[encoded data removed]",
      "text/plain": [
       "<Figure size 640x480 with 1 Axes>"
      ]
     },
     "metadata": {},
     "output_type": "display_data"
    }
   ],
   "source": [
    "# Nuage de point entre la variable \"birthday\" et \"date\"\n",
    "\n",
    "sns.regplot(x='birthday',y='date',fit_reg=False, data = resultats)\n",
    "plt.title(\"relation entre l'age des clients et la date\")\n",
    "plt.show()"
   ]
  },
  {
   "cell_type": "markdown",
   "id": "0daa099a",
   "metadata": {},
   "source": [
    "- Hypothèse nulle : Il n'y a pas de relation significative entre l'âge des clients et la date d'achat dans une librairie.\n",
    "\n",
    "\n",
    "- Hypothèse alternative : Il existe une relation significative entre l'âge des clients et la date d'achat dans une librairie, c'est-à-dire que les clients plus âgés peuvent avoir tendance à effectuer des achats à des dates différentes de celles des clients plus jeunes, ou vice versa."
   ]
  },
  {
   "cell_type": "markdown",
   "id": "69ab870f",
   "metadata": {},
   "source": [
    "#### Test de correlation entre les variables \"birthday\" et \"date\""
   ]
  },
  {
   "cell_type": "code",
   "execution_count": 235,
   "id": "9702abb6",
   "metadata": {},
   "outputs": [
    {
     "data": {
      "text/plain": [
       "PearsonRResult(statistic=0.5337344271238336, pvalue=6.876677470343373e-07)"
      ]
     },
     "execution_count": 235,
     "metadata": {},
     "output_type": "execute_result"
    }
   ],
   "source": [
    "# Coefficient de correlation de pearson \n",
    "  # entre les variable \"birthday\" et \"date\" \n",
    "\n",
    "stats.pearsonr(resultats['birthday'],resultats['date'])"
   ]
  },
  {
   "cell_type": "markdown",
   "id": "e6d52d78",
   "metadata": {},
   "source": [
    "Le coefficient de corrélation de Pearson entre l'âge des clients et la date est de 0,534, indiquant une corrélation modérée positive entre ces deux variables. De plus, la p-valeur associée est très faible (6,88e-07), ce qui suggère que cette corrélation est statistiquement significative. Cela signifie que l'âge des clients et la date sont liés de manière significative, bien qu'il soit important de noter que la corrélation ne prouve pas la causalité."
   ]
  },
  {
   "cell_type": "code",
   "execution_count": 236,
   "id": "920b59d4",
   "metadata": {},
   "outputs": [
    {
     "data": {
      "text/plain": [
       "ShapiroResult(statistic=0.9549236297607422, pvalue=0.008753503672778606)"
      ]
     },
     "execution_count": 236,
     "metadata": {},
     "output_type": "execute_result"
    }
   ],
   "source": [
    "# Test de Normalité de Shapiro-Wilk\n",
    "\n",
    "stats.shapiro(resultats['birthday'])"
   ]
  },
  {
   "cell_type": "code",
   "execution_count": 237,
   "id": "53e137ee",
   "metadata": {},
   "outputs": [
    {
     "data": {
      "text/plain": [
       "ShapiroResult(statistic=0.8338267207145691, pvalue=8.646505733622689e-08)"
      ]
     },
     "execution_count": 237,
     "metadata": {},
     "output_type": "execute_result"
    }
   ],
   "source": [
    "# Test de Normalité de Shapiro-Wilk\n",
    "\n",
    "stats.shapiro(resultats['date'])"
   ]
  },
  {
   "cell_type": "markdown",
   "id": "46aaff86",
   "metadata": {},
   "source": [
    "Le test de normalité de Shapiro-Wilk utilisé pour évaluer si la variable date suit une distribution normale. La statistique de test est de 0.8338267207145691 avec une p-valeur de 8.646505733622689e-08. Comme la p-valeur est inférieure au niveau de signification de 0,05, nous pouvons rejeter l'hypothèse nulle selon laquelle la variable suit une distribution normale. Cela suggère que la variable date ne suit probablement pas une distribution normale dans l'échantillon étudié. Toutefois, il est important de noter que les données de date peuvent ne pas être adaptées pour ce type de test car elles peuvent avoir une structure de série chronologique qui est différente de la distribution normale. Il convient donc d'être prudent dans l'interprétation des résultats de ce test pour la variable date."
   ]
  },
  {
   "cell_type": "code",
   "execution_count": 238,
   "id": "47a023b0",
   "metadata": {},
   "outputs": [
    {
     "data": {
      "text/plain": [
       "LeveneResult(statistic=135.75491842379225, pvalue=9.528030443990291e-23)"
      ]
     },
     "execution_count": 238,
     "metadata": {},
     "output_type": "execute_result"
    }
   ],
   "source": [
    "# Test d'egalité des Variances\n",
    "\n",
    "stats.levene(resultats['birthday'], resultats['date'], center = 'mean')"
   ]
  },
  {
   "cell_type": "markdown",
   "id": "cb15f92c",
   "metadata": {},
   "source": [
    "Le test d'égalité des variances effectué pour évaluer si les variances des variables birthday et date d'achat sont égales. La statistique de test est de 135.75491842379225 avec une p-valeur de 9.528030443990291e-23. Étant donné que la p-valeur est inférieure au niveau de signification de 0,05, nous pouvons rejeter l'hypothèse nulle selon laquelle les variances des deux variables sont égales. Cela suggère qu'il existe une différence significative entre les variances des deux variables étudiées."
   ]
  },
  {
   "cell_type": "code",
   "execution_count": 239,
   "id": "497a81b8",
   "metadata": {},
   "outputs": [
    {
     "data": {
      "text/plain": [
       "SpearmanrResult(correlation=0.6845979808634354, pvalue=9.17297066447968e-12)"
      ]
     },
     "execution_count": 239,
     "metadata": {},
     "output_type": "execute_result"
    }
   ],
   "source": [
    "# Test non paramétrique de spearman\n",
    "\n",
    "stats.spearmanr(resultats['birthday'],resultats['date'])"
   ]
  },
  {
   "cell_type": "markdown",
   "id": "18e21797",
   "metadata": {},
   "source": [
    "Le test de Spearman a été utilisé pour évaluer la corrélation entre l'âge des clients et la date d'achat dans une librairie, donnant une statistique de 0.6845979808634354 et une p-valeur de 9.17297066447968e-12. La p-valeur étant très faible, inférieure à 0,05, nous pouvons rejeter l'hypothèse nulle selon laquelle il n'y a pas de corrélation significative entre l'âge des clients et la date d'achat. Cela suggère qu'il existe une relation significative entre ces deux variables dans la librairie. La statistique de corrélation positive de 0.6845979808634354 indique que les clients plus âgés peuvent avoir tendance à acheter à des dates différentes de celles des clients plus jeunes. Cependant, il est important de noter que ce test ne permet pas de déterminer la direction de la relation de corrélation."
   ]
  },
  {
   "cell_type": "markdown",
   "id": "e413235b",
   "metadata": {},
   "source": [
    "#### Le lien entre la variable \"birthday\" et \"price\""
   ]
  },
  {
   "cell_type": "code",
   "execution_count": 240,
   "id": "f6f5ac8e",
   "metadata": {},
   "outputs": [
    {
     "data": {
      "image/png": "[encoded data removed]",
      "text/plain": [
       "<Figure size 640x480 with 1 Axes>"
      ]
     },
     "metadata": {},
     "output_type": "display_data"
    }
   ],
   "source": [
    "# Nuage de point entre la variable \"birthday\" et \"price\"\n",
    "\n",
    "sns.regplot(x='birthday',y='price',fit_reg=False, data = resultats)\n",
    "plt.title(\"relation entre l'age des clients' et le prix\")\n",
    "plt.show()"
   ]
  },
  {
   "cell_type": "markdown",
   "id": "8e196e68",
   "metadata": {},
   "source": [
    "#### Test de correlation entre les variables \"birthday\" et \"price\""
   ]
  },
  {
   "cell_type": "code",
   "execution_count": 241,
   "id": "901c6967",
   "metadata": {},
   "outputs": [
    {
     "data": {
      "text/plain": [
       "PearsonRResult(statistic=0.7788810457116596, pvalue=1.1949535843461165e-16)"
      ]
     },
     "execution_count": 241,
     "metadata": {},
     "output_type": "execute_result"
    }
   ],
   "source": [
    "# Coefficient de correlation de pearson \n",
    "  # entre les variable \"birthday\" et \"price\" \n",
    "\n",
    "stats.pearsonr(resultats['birthday'],resultats['price'])"
   ]
  },
  {
   "cell_type": "markdown",
   "id": "fd566279",
   "metadata": {},
   "source": [
    "Le coefficient de corrélation de Pearson entre l'âge des clients et le prix est de 0,779, indiquant une corrélation positive forte entre ces deux variables. De plus, la p-valeur est très faible (1,19e-16), ce qui suggère que cette corrélation est statistiquement significative et peu probablement due au hasard. Cela indique que l'âge des clients est positivement associé avec le prix. Cependant, il est important de noter que la corrélation ne prouve pas de relation de causalité entre les deux variables."
   ]
  },
  {
   "cell_type": "code",
   "execution_count": 242,
   "id": "fec94d03",
   "metadata": {},
   "outputs": [
    {
     "data": {
      "text/plain": [
       "ShapiroResult(statistic=0.9549236297607422, pvalue=0.008753503672778606)"
      ]
     },
     "execution_count": 242,
     "metadata": {},
     "output_type": "execute_result"
    }
   ],
   "source": [
    "# Test de Normalité de Shapiro-Wilk\n",
    "\n",
    "stats.shapiro(resultats['birthday'])"
   ]
  },
  {
   "cell_type": "code",
   "execution_count": 243,
   "id": "e04006fb",
   "metadata": {},
   "outputs": [
    {
     "data": {
      "text/plain": [
       "ShapiroResult(statistic=0.8878951668739319, pvalue=6.316015515039908e-06)"
      ]
     },
     "execution_count": 243,
     "metadata": {},
     "output_type": "execute_result"
    }
   ],
   "source": [
    "# Test de Normalité de Shapiro-Wilk\n",
    "\n",
    "stats.shapiro(resultats['price'])"
   ]
  },
  {
   "cell_type": "markdown",
   "id": "33acc073",
   "metadata": {},
   "source": [
    "Le test de normalité de Shapiro-Wilk utilisé pour évaluer si la variable prix suit une distribution normale. La statistique de test est de 0.8878951668739319 avec une p-valeur de 6.316015515039908e-06. Comme la p-valeur est inférieure au niveau de signification de 0,05, nous pouvons rejeter l'hypothèse nulle selon laquelle la variable suit une distribution normale. Cela suggère que la variable prix ne suit probablement pas une distribution normale dans l'échantillon étudié. Toutefois, il est important de noter que les tests de normalité peuvent être influencés par la taille de l'échantillon et que les résultats doivent être interprétés avec précaution."
   ]
  },
  {
   "cell_type": "code",
   "execution_count": 244,
   "id": "144418db",
   "metadata": {},
   "outputs": [
    {
     "data": {
      "text/plain": [
       "LeveneResult(statistic=125.60902593058448, pvalue=1.4631714477102273e-21)"
      ]
     },
     "execution_count": 244,
     "metadata": {},
     "output_type": "execute_result"
    }
   ],
   "source": [
    "# Test d'egalité des Variances\n",
    "\n",
    "stats.levene(resultats['birthday'], resultats['price'], center = 'mean')"
   ]
  },
  {
   "cell_type": "markdown",
   "id": "ac607a8b",
   "metadata": {},
   "source": [
    "Le test d'égalité des variances effectué pour évaluer si les variances des variables birthday et prix sont égales. La statistique de test est de 125.60902593058448 avec une p-valeur de 1.4631714477102273e-21. Étant donné que la p-valeur est inférieure au niveau de signification de 0,05, nous pouvons rejeter l'hypothèse nulle selon laquelle les variances des deux variables sont égales. Cela suggère qu'il existe une différence significative entre les variances des deux variables étudiées. En conséquence, cela peut avoir un impact sur les tests statistiques ultérieurs et il peut être nécessaire d'utiliser des méthodes alternatives pour analyser les données."
   ]
  },
  {
   "cell_type": "code",
   "execution_count": 245,
   "id": "1237c1b8",
   "metadata": {},
   "outputs": [
    {
     "data": {
      "text/plain": [
       "SpearmanrResult(correlation=0.8576076555023923, pvalue=4.57972879340901e-23)"
      ]
     },
     "execution_count": 245,
     "metadata": {},
     "output_type": "execute_result"
    }
   ],
   "source": [
    "# Test non paramétrique de spearman\n",
    "\n",
    "stats.spearmanr(resultats['birthday'],resultats['price'])"
   ]
  },
  {
   "cell_type": "markdown",
   "id": "3e6a49bb",
   "metadata": {},
   "source": [
    "Le test de Spearman a été utilisé pour évaluer la corrélation entre l'âge des clients et le prix de leurs achats dans cette librairie, donnant une statistique de 0.8576076555023923 et une p-valeur de 4.57972879340901e-23. La p-valeur étant très faible, inférieure à 0,05, nous pouvons rejeter l'hypothèse nulle selon laquelle il n'y a pas de corrélation significative entre l'âge des clients et le prix de leurs achats. Cela suggère qu'il existe une relation significative entre ces deux variables dans la librairie. La statistique de corrélation positive de 0.8576076555023923 indique que les clients plus âgés ont tendance à dépenser plus lors de leurs achats que les clients plus jeunes. Cependant, il est important de noter que ce test ne permet pas de déterminer la direction de la relation de corrélation."
   ]
  },
  {
   "cell_type": "markdown",
   "id": "9c692790",
   "metadata": {},
   "source": [
    "### 2-c Matrice de corrélation "
   ]
  },
  {
   "cell_type": "code",
   "execution_count": 246,
   "id": "28cd4c9b",
   "metadata": {},
   "outputs": [
    {
     "data": {
      "text/html": [
       "<div>\n",
       "<style scoped>\n",
       "    .dataframe tbody tr th:only-of-type {\n",
       "        vertical-align: middle;\n",
       "    }\n",
       "\n",
       "    .dataframe tbody tr th {\n",
       "        vertical-align: top;\n",
       "    }\n",
       "\n",
       "    .dataframe thead th {\n",
       "        text-align: right;\n",
       "    }\n",
       "</style>\n",
       "<table border=\"1\" class=\"dataframe\">\n",
       "  <thead>\n",
       "    <tr style=\"text-align: right;\">\n",
       "      <th></th>\n",
       "      <th>birthday</th>\n",
       "      <th>price</th>\n",
       "      <th>date</th>\n",
       "      <th>panier_moyen</th>\n",
       "    </tr>\n",
       "  </thead>\n",
       "  <tbody>\n",
       "    <tr>\n",
       "      <th>birthday</th>\n",
       "      <td>1.000000</td>\n",
       "      <td>0.778881</td>\n",
       "      <td>0.533734</td>\n",
       "      <td>0.547861</td>\n",
       "    </tr>\n",
       "    <tr>\n",
       "      <th>price</th>\n",
       "      <td>0.778881</td>\n",
       "      <td>1.000000</td>\n",
       "      <td>0.830299</td>\n",
       "      <td>0.249629</td>\n",
       "    </tr>\n",
       "    <tr>\n",
       "      <th>date</th>\n",
       "      <td>0.533734</td>\n",
       "      <td>0.830299</td>\n",
       "      <td>1.000000</td>\n",
       "      <td>-0.267318</td>\n",
       "    </tr>\n",
       "    <tr>\n",
       "      <th>panier_moyen</th>\n",
       "      <td>0.547861</td>\n",
       "      <td>0.249629</td>\n",
       "      <td>-0.267318</td>\n",
       "      <td>1.000000</td>\n",
       "    </tr>\n",
       "  </tbody>\n",
       "</table>\n",
       "</div>"
      ],
      "text/plain": [
       "              birthday     price      date  panier_moyen\n",
       "birthday      1.000000  0.778881  0.533734      0.547861\n",
       "price         0.778881  1.000000  0.830299      0.249629\n",
       "date          0.533734  0.830299  1.000000     -0.267318\n",
       "panier_moyen  0.547861  0.249629 -0.267318      1.000000"
      ]
     },
     "execution_count": 246,
     "metadata": {},
     "output_type": "execute_result"
    }
   ],
   "source": [
    "# MATRICE DE CRRRELATION de toutes les variables\n",
    "\n",
    "resultats.corr()"
   ]
  },
  {
   "cell_type": "code",
   "execution_count": 247,
   "id": "bdf4354b",
   "metadata": {},
   "outputs": [
    {
     "data": {
      "image/png": "[encoded data removed]",
      "text/plain": [
       "<Figure size 640x480 with 2 Axes>"
      ]
     },
     "metadata": {},
     "output_type": "display_data"
    }
   ],
   "source": [
    "# CARTE DE CORRELATION AMELIOREE\n",
    "\n",
    "mask = np.triu(np.ones_like(resultats.corr(), dtype='bool'))\n",
    "sns.heatmap(resultats.corr(), mask=mask, center=0,\n",
    "            cmap=\"RdBu\", linewidths=1,\n",
    "            annot=True, fmt=\".2f\", vmin=-1, vmax=1)\n",
    "plt.title(\"carte des correlations de pearson\")\n",
    "plt.show()"
   ]
  },
  {
   "cell_type": "markdown",
   "id": "bed1800d",
   "metadata": {},
   "source": [
    "### 2-d Les catégories des livres achetés"
   ]
  },
  {
   "cell_type": "markdown",
   "id": "8ac9601b",
   "metadata": {},
   "source": [
    "### Test ANOVA"
   ]
  },
  {
   "cell_type": "code",
   "execution_count": 248,
   "id": "a2fb8e01",
   "metadata": {},
   "outputs": [
    {
     "data": {
      "image/png": "[encoded data removed]",
      "text/plain": [
       "<Figure size 640x480 with 1 Axes>"
      ]
     },
     "metadata": {},
     "output_type": "display_data"
    }
   ],
   "source": [
    "# Distibution de la variable \"category\"\n",
    "\n",
    "sns.distplot(df_transactions_customers_products['birthday'], kde=True)\n",
    "plt.show()"
   ]
  },
  {
   "cell_type": "code",
   "execution_count": 249,
   "id": "8ef29d12",
   "metadata": {},
   "outputs": [],
   "source": [
    "df_categories = stats.f_oneway(df_transactions_customers_products['birthday'],\n",
    "                        df_transactions_customers_products['category'])"
   ]
  },
  {
   "cell_type": "code",
   "execution_count": 250,
   "id": "ec5616d1",
   "metadata": {},
   "outputs": [
    {
     "data": {
      "text/plain": [
       "F_onewayResult(statistic=14380697121.165258, pvalue=0.0)"
      ]
     },
     "execution_count": 250,
     "metadata": {},
     "output_type": "execute_result"
    }
   ],
   "source": [
    "df_categories"
   ]
  },
  {
   "cell_type": "markdown",
   "id": "50961fec",
   "metadata": {},
   "source": [
    "Le test ANOVA entre l'âge des clients et la catégorie des livres a montré une statistique de 14380697121.16 et une p-valeur très faible de 0.0, indiquant que les moyennes d'âge entre les différentes catégories de livres diffèrent significativement. Autrement dit, la catégorie de livre acheté est un facteur significatif dans l'explication de la variance de l'âge des clients. Cela suggère que les clients d'âges différents ont tendance à acheter des livres dans des catégories différentes. Cependant, il est important de noter que le test ANOVA ne prouve pas de relation de causalité entre les variables, mais seulement une association statistique significative."
   ]
  },
  {
   "cell_type": "code",
   "execution_count": null,
   "id": "2d7f5b19",
   "metadata": {},
   "outputs": [],
   "source": []
  }
 ],
 "metadata": {
  "kernelspec": {
   "display_name": "Python 3 (ipykernel)",
   "language": "python",
   "name": "python3"
  },
  "language_info": {
   "codemirror_mode": {
    "name": "ipython",
    "version": 3
   },
   "file_extension": ".py",
   "mimetype": "text/x-python",
   "name": "python",
   "nbconvert_exporter": "python",
   "pygments_lexer": "ipython3",
   "version": "3.9.13"
  }
 },
 "nbformat": 4,
 "nbformat_minor": 5
}
